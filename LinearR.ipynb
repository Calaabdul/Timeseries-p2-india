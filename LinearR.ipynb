{
 "cells": [
  {
   "cell_type": "code",
   "execution_count": null,
   "id": "3f3375a9-fc05-40e8-92e8-80b87ed97bdf",
   "metadata": {},
   "outputs": [],
   "source": []
  },
  {
   "cell_type": "code",
   "execution_count": 154,
   "id": "c3a090b8-696f-4cce-a452-9b73cc7b9792",
   "metadata": {},
   "outputs": [],
   "source": [
    "import pandas as pd\n",
    "import matplotlib.pyplot as plt\n",
    "import pytz\n",
    "import plotly.express as px\n",
    "from sklearn.linear_model import LinearRegression\n",
    "from sklearn.metrics import mean_absolute_error\n",
    "\n",
    "\n",
    "\n",
    "import warnings\n",
    "warnings.filterwarnings('ignore')"
   ]
  },
  {
   "cell_type": "code",
   "execution_count": 2,
   "id": "56ac8cb9-2b35-4e43-976f-d71982fe1e9c",
   "metadata": {},
   "outputs": [],
   "source": [
    "df = pd.read_csv('data/air-quality-india.csv')"
   ]
  },
  {
   "cell_type": "code",
   "execution_count": 3,
   "id": "dfe2c649-1ac7-4662-8542-af9f2ab4bfe2",
   "metadata": {},
   "outputs": [
    {
     "data": {
      "text/html": [
       "<div>\n",
       "<style scoped>\n",
       "    .dataframe tbody tr th:only-of-type {\n",
       "        vertical-align: middle;\n",
       "    }\n",
       "\n",
       "    .dataframe tbody tr th {\n",
       "        vertical-align: top;\n",
       "    }\n",
       "\n",
       "    .dataframe thead th {\n",
       "        text-align: right;\n",
       "    }\n",
       "</style>\n",
       "<table border=\"1\" class=\"dataframe\">\n",
       "  <thead>\n",
       "    <tr style=\"text-align: right;\">\n",
       "      <th></th>\n",
       "      <th>Timestamp</th>\n",
       "      <th>Year</th>\n",
       "      <th>Month</th>\n",
       "      <th>Day</th>\n",
       "      <th>Hour</th>\n",
       "      <th>PM2.5</th>\n",
       "    </tr>\n",
       "  </thead>\n",
       "  <tbody>\n",
       "    <tr>\n",
       "      <th>0</th>\n",
       "      <td>2017-11-07 12:00:00</td>\n",
       "      <td>2017</td>\n",
       "      <td>11</td>\n",
       "      <td>7</td>\n",
       "      <td>12</td>\n",
       "      <td>64.51</td>\n",
       "    </tr>\n",
       "    <tr>\n",
       "      <th>1</th>\n",
       "      <td>2017-11-07 13:00:00</td>\n",
       "      <td>2017</td>\n",
       "      <td>11</td>\n",
       "      <td>7</td>\n",
       "      <td>13</td>\n",
       "      <td>69.95</td>\n",
       "    </tr>\n",
       "    <tr>\n",
       "      <th>2</th>\n",
       "      <td>2017-11-07 14:00:00</td>\n",
       "      <td>2017</td>\n",
       "      <td>11</td>\n",
       "      <td>7</td>\n",
       "      <td>14</td>\n",
       "      <td>92.79</td>\n",
       "    </tr>\n",
       "    <tr>\n",
       "      <th>3</th>\n",
       "      <td>2017-11-07 15:00:00</td>\n",
       "      <td>2017</td>\n",
       "      <td>11</td>\n",
       "      <td>7</td>\n",
       "      <td>15</td>\n",
       "      <td>109.66</td>\n",
       "    </tr>\n",
       "    <tr>\n",
       "      <th>4</th>\n",
       "      <td>2017-11-07 16:00:00</td>\n",
       "      <td>2017</td>\n",
       "      <td>11</td>\n",
       "      <td>7</td>\n",
       "      <td>16</td>\n",
       "      <td>116.50</td>\n",
       "    </tr>\n",
       "  </tbody>\n",
       "</table>\n",
       "</div>"
      ],
      "text/plain": [
       "             Timestamp  Year  Month  Day  Hour   PM2.5\n",
       "0  2017-11-07 12:00:00  2017     11    7    12   64.51\n",
       "1  2017-11-07 13:00:00  2017     11    7    13   69.95\n",
       "2  2017-11-07 14:00:00  2017     11    7    14   92.79\n",
       "3  2017-11-07 15:00:00  2017     11    7    15  109.66\n",
       "4  2017-11-07 16:00:00  2017     11    7    16  116.50"
      ]
     },
     "execution_count": 3,
     "metadata": {},
     "output_type": "execute_result"
    }
   ],
   "source": [
    "df.head()"
   ]
  },
  {
   "cell_type": "code",
   "execution_count": 4,
   "id": "bb38e609-b789-4c7e-97cd-8f94cb1f726e",
   "metadata": {},
   "outputs": [
    {
     "data": {
      "text/plain": [
       "(36192, 6)"
      ]
     },
     "execution_count": 4,
     "metadata": {},
     "output_type": "execute_result"
    }
   ],
   "source": [
    "df.shape"
   ]
  },
  {
   "cell_type": "code",
   "execution_count": 5,
   "id": "1f2eaf18-d5d1-4b1f-b52f-e5aaa3c560ad",
   "metadata": {},
   "outputs": [
    {
     "name": "stdout",
     "output_type": "stream",
     "text": [
      "<class 'pandas.core.frame.DataFrame'>\n",
      "RangeIndex: 36192 entries, 0 to 36191\n",
      "Data columns (total 6 columns):\n",
      " #   Column     Non-Null Count  Dtype  \n",
      "---  ------     --------------  -----  \n",
      " 0   Timestamp  36192 non-null  object \n",
      " 1   Year       36192 non-null  int64  \n",
      " 2   Month      36192 non-null  int64  \n",
      " 3   Day        36192 non-null  int64  \n",
      " 4   Hour       36192 non-null  int64  \n",
      " 5   PM2.5      36192 non-null  float64\n",
      "dtypes: float64(1), int64(4), object(1)\n",
      "memory usage: 1.7+ MB\n"
     ]
    }
   ],
   "source": [
    "df.info()"
   ]
  },
  {
   "cell_type": "markdown",
   "id": "66369dc7-55c5-40c3-9fa3-a03d20dc2a3f",
   "metadata": {},
   "source": [
    "# Prepare Data"
   ]
  },
  {
   "cell_type": "code",
   "execution_count": 7,
   "id": "b1dbf926-cc8b-4d06-bcd3-5a7005abfd1e",
   "metadata": {},
   "outputs": [
    {
     "data": {
      "text/html": [
       "<div>\n",
       "<style scoped>\n",
       "    .dataframe tbody tr th:only-of-type {\n",
       "        vertical-align: middle;\n",
       "    }\n",
       "\n",
       "    .dataframe tbody tr th {\n",
       "        vertical-align: top;\n",
       "    }\n",
       "\n",
       "    .dataframe thead th {\n",
       "        text-align: right;\n",
       "    }\n",
       "</style>\n",
       "<table border=\"1\" class=\"dataframe\">\n",
       "  <thead>\n",
       "    <tr style=\"text-align: right;\">\n",
       "      <th></th>\n",
       "      <th>Timestamp</th>\n",
       "      <th>Year</th>\n",
       "      <th>Month</th>\n",
       "      <th>Day</th>\n",
       "      <th>Hour</th>\n",
       "      <th>PM2.5</th>\n",
       "    </tr>\n",
       "  </thead>\n",
       "  <tbody>\n",
       "    <tr>\n",
       "      <th>0</th>\n",
       "      <td>2017-11-07 12:00:00</td>\n",
       "      <td>2017</td>\n",
       "      <td>11</td>\n",
       "      <td>7</td>\n",
       "      <td>12</td>\n",
       "      <td>64.51</td>\n",
       "    </tr>\n",
       "    <tr>\n",
       "      <th>1</th>\n",
       "      <td>2017-11-07 13:00:00</td>\n",
       "      <td>2017</td>\n",
       "      <td>11</td>\n",
       "      <td>7</td>\n",
       "      <td>13</td>\n",
       "      <td>69.95</td>\n",
       "    </tr>\n",
       "    <tr>\n",
       "      <th>2</th>\n",
       "      <td>2017-11-07 14:00:00</td>\n",
       "      <td>2017</td>\n",
       "      <td>11</td>\n",
       "      <td>7</td>\n",
       "      <td>14</td>\n",
       "      <td>92.79</td>\n",
       "    </tr>\n",
       "    <tr>\n",
       "      <th>3</th>\n",
       "      <td>2017-11-07 15:00:00</td>\n",
       "      <td>2017</td>\n",
       "      <td>11</td>\n",
       "      <td>7</td>\n",
       "      <td>15</td>\n",
       "      <td>109.66</td>\n",
       "    </tr>\n",
       "    <tr>\n",
       "      <th>4</th>\n",
       "      <td>2017-11-07 16:00:00</td>\n",
       "      <td>2017</td>\n",
       "      <td>11</td>\n",
       "      <td>7</td>\n",
       "      <td>16</td>\n",
       "      <td>116.50</td>\n",
       "    </tr>\n",
       "  </tbody>\n",
       "</table>\n",
       "</div>"
      ],
      "text/plain": [
       "             Timestamp  Year  Month  Day  Hour   PM2.5\n",
       "0  2017-11-07 12:00:00  2017     11    7    12   64.51\n",
       "1  2017-11-07 13:00:00  2017     11    7    13   69.95\n",
       "2  2017-11-07 14:00:00  2017     11    7    14   92.79\n",
       "3  2017-11-07 15:00:00  2017     11    7    15  109.66\n",
       "4  2017-11-07 16:00:00  2017     11    7    16  116.50"
      ]
     },
     "execution_count": 7,
     "metadata": {},
     "output_type": "execute_result"
    }
   ],
   "source": [
    "df.head()"
   ]
  },
  {
   "cell_type": "code",
   "execution_count": 8,
   "id": "fbd57dd1-4e54-4281-8d8d-fe24a86c5bd3",
   "metadata": {},
   "outputs": [],
   "source": [
    "df.drop(columns = ['Year', 'Month', 'Day', 'Hour'], inplace = True)"
   ]
  },
  {
   "cell_type": "code",
   "execution_count": 9,
   "id": "ede1d837-ce0d-4ecd-ac1f-e539f674441a",
   "metadata": {},
   "outputs": [],
   "source": [
    "df['Timestamp'] = pd.to_datetime(df['Timestamp'])"
   ]
  },
  {
   "cell_type": "code",
   "execution_count": 10,
   "id": "cee403a8-2f7d-4b6f-a255-451815946eb2",
   "metadata": {},
   "outputs": [
    {
     "data": {
      "text/plain": [
       "0"
      ]
     },
     "execution_count": 10,
     "metadata": {},
     "output_type": "execute_result"
    }
   ],
   "source": [
    "df.duplicated().sum()"
   ]
  },
  {
   "cell_type": "code",
   "execution_count": 11,
   "id": "2f6faf57-64b4-4c6a-be7e-e33f9259d261",
   "metadata": {},
   "outputs": [],
   "source": [
    "df = df.set_index('Timestamp')"
   ]
  },
  {
   "cell_type": "code",
   "execution_count": 12,
   "id": "dfa76587-192a-4cdf-b04e-c7167e1c45dc",
   "metadata": {},
   "outputs": [
    {
     "data": {
      "text/html": [
       "<div>\n",
       "<style scoped>\n",
       "    .dataframe tbody tr th:only-of-type {\n",
       "        vertical-align: middle;\n",
       "    }\n",
       "\n",
       "    .dataframe tbody tr th {\n",
       "        vertical-align: top;\n",
       "    }\n",
       "\n",
       "    .dataframe thead th {\n",
       "        text-align: right;\n",
       "    }\n",
       "</style>\n",
       "<table border=\"1\" class=\"dataframe\">\n",
       "  <thead>\n",
       "    <tr style=\"text-align: right;\">\n",
       "      <th></th>\n",
       "      <th>PM2.5</th>\n",
       "    </tr>\n",
       "    <tr>\n",
       "      <th>Timestamp</th>\n",
       "      <th></th>\n",
       "    </tr>\n",
       "  </thead>\n",
       "  <tbody>\n",
       "    <tr>\n",
       "      <th>2017-11-07 12:00:00</th>\n",
       "      <td>64.51</td>\n",
       "    </tr>\n",
       "    <tr>\n",
       "      <th>2017-11-07 13:00:00</th>\n",
       "      <td>69.95</td>\n",
       "    </tr>\n",
       "    <tr>\n",
       "      <th>2017-11-07 14:00:00</th>\n",
       "      <td>92.79</td>\n",
       "    </tr>\n",
       "    <tr>\n",
       "      <th>2017-11-07 15:00:00</th>\n",
       "      <td>109.66</td>\n",
       "    </tr>\n",
       "    <tr>\n",
       "      <th>2017-11-07 16:00:00</th>\n",
       "      <td>116.50</td>\n",
       "    </tr>\n",
       "  </tbody>\n",
       "</table>\n",
       "</div>"
      ],
      "text/plain": [
       "                      PM2.5\n",
       "Timestamp                  \n",
       "2017-11-07 12:00:00   64.51\n",
       "2017-11-07 13:00:00   69.95\n",
       "2017-11-07 14:00:00   92.79\n",
       "2017-11-07 15:00:00  109.66\n",
       "2017-11-07 16:00:00  116.50"
      ]
     },
     "execution_count": 12,
     "metadata": {},
     "output_type": "execute_result"
    }
   ],
   "source": [
    "df.head()"
   ]
  },
  {
   "cell_type": "code",
   "execution_count": null,
   "id": "8e011e70-a587-4999-81ce-e72472ce8c10",
   "metadata": {},
   "outputs": [],
   "source": []
  },
  {
   "cell_type": "code",
   "execution_count": 13,
   "id": "c5208834-2c23-45c6-8cf8-5bfb4e78a0fd",
   "metadata": {},
   "outputs": [],
   "source": [
    "#Assume time is already in UTC\n",
    "df.index = df.index.tz_localize('UTC').tz_convert('Asia/Kolkata')"
   ]
  },
  {
   "cell_type": "code",
   "execution_count": 14,
   "id": "c95e4ab3-bfbb-434d-b507-1d04be1b17ae",
   "metadata": {},
   "outputs": [
    {
     "data": {
      "text/plain": [
       "DatetimeIndex(['2017-11-07 17:30:00+05:30', '2017-11-07 18:30:00+05:30',\n",
       "               '2017-11-07 19:30:00+05:30', '2017-11-07 20:30:00+05:30',\n",
       "               '2017-11-07 21:30:00+05:30'],\n",
       "              dtype='datetime64[ns, Asia/Kolkata]', name='Timestamp', freq=None)"
      ]
     },
     "execution_count": 14,
     "metadata": {},
     "output_type": "execute_result"
    }
   ],
   "source": [
    "df.index[:5]"
   ]
  },
  {
   "cell_type": "code",
   "execution_count": 15,
   "id": "7cc6b29d-ab1f-4e10-ae3c-0d727c2d02d3",
   "metadata": {},
   "outputs": [
    {
     "data": {
      "image/png": "[encoded data removed]",
      "text/plain": [
       "<Figure size 1000x600 with 1 Axes>"
      ]
     },
     "metadata": {},
     "output_type": "display_data"
    }
   ],
   "source": [
    "fig, ax = plt.subplots (figsize = (10, 6))\n",
    "df['PM2.5'].plot(kind = 'box', vert = False, ax = ax , title = 'Distribution of PM2.5');"
   ]
  },
  {
   "cell_type": "code",
   "execution_count": 16,
   "id": "ab9d8ba5-fa90-4939-abef-a42ebe88b86e",
   "metadata": {},
   "outputs": [
    {
     "data": {
      "text/html": [
       "<div>\n",
       "<style scoped>\n",
       "    .dataframe tbody tr th:only-of-type {\n",
       "        vertical-align: middle;\n",
       "    }\n",
       "\n",
       "    .dataframe tbody tr th {\n",
       "        vertical-align: top;\n",
       "    }\n",
       "\n",
       "    .dataframe thead th {\n",
       "        text-align: right;\n",
       "    }\n",
       "</style>\n",
       "<table border=\"1\" class=\"dataframe\">\n",
       "  <thead>\n",
       "    <tr style=\"text-align: right;\">\n",
       "      <th></th>\n",
       "      <th>count</th>\n",
       "      <th>mean</th>\n",
       "      <th>std</th>\n",
       "      <th>min</th>\n",
       "      <th>25%</th>\n",
       "      <th>50%</th>\n",
       "      <th>75%</th>\n",
       "      <th>max</th>\n",
       "    </tr>\n",
       "  </thead>\n",
       "  <tbody>\n",
       "    <tr>\n",
       "      <th>PM2.5</th>\n",
       "      <td>36192.0</td>\n",
       "      <td>49.308429</td>\n",
       "      <td>24.863511</td>\n",
       "      <td>7.02</td>\n",
       "      <td>28.08</td>\n",
       "      <td>45.73</td>\n",
       "      <td>64.52</td>\n",
       "      <td>245.63</td>\n",
       "    </tr>\n",
       "  </tbody>\n",
       "</table>\n",
       "</div>"
      ],
      "text/plain": [
       "         count       mean        std   min    25%    50%    75%     max\n",
       "PM2.5  36192.0  49.308429  24.863511  7.02  28.08  45.73  64.52  245.63"
      ]
     },
     "execution_count": 16,
     "metadata": {},
     "output_type": "execute_result"
    }
   ],
   "source": [
    "df.describe().T"
   ]
  },
  {
   "cell_type": "code",
   "execution_count": 17,
   "id": "90ab434d-7d24-469d-bb95-ae91894396ab",
   "metadata": {},
   "outputs": [],
   "source": [
    "# observation - no outlier"
   ]
  },
  {
   "cell_type": "code",
   "execution_count": 18,
   "id": "b5c0a9c7-eea5-4b46-abc6-c5bc85dbbf26",
   "metadata": {},
   "outputs": [],
   "source": [
    "# plot Timeseries"
   ]
  },
  {
   "cell_type": "code",
   "execution_count": 19,
   "id": "3c94533b-a080-4940-be2d-3285eb973c31",
   "metadata": {},
   "outputs": [
    {
     "data": {
      "image/png": "[encoded data removed]",
      "text/plain": [
       "<Figure size 640x480 with 1 Axes>"
      ]
     },
     "metadata": {},
     "output_type": "display_data"
    }
   ],
   "source": [
    "df['PM2.5'].plot(ylabel='PM2.5 values', title = 'Timeseries plot');"
   ]
  },
  {
   "cell_type": "markdown",
   "id": "b2253640-7cb6-4708-8e8e-73f51d8f50b4",
   "metadata": {},
   "source": [
    "# observation\n",
    " - No missing values\n",
    " - It is non-stationary"
   ]
  },
  {
   "cell_type": "markdown",
   "id": "5ed613bb-16da-403a-a45a-689230932eba",
   "metadata": {},
   "source": [
    "# Resample Data"
   ]
  },
  {
   "cell_type": "code",
   "execution_count": 22,
   "id": "a26e3fb3-11d1-406d-8c5a-22ad40ecdf90",
   "metadata": {},
   "outputs": [
    {
     "data": {
      "text/plain": [
       "PM2.5    54\n",
       "dtype: int64"
      ]
     },
     "execution_count": 22,
     "metadata": {},
     "output_type": "execute_result"
    }
   ],
   "source": [
    "df['PM2.5'].resample('D').mean().to_frame().isna().sum()"
   ]
  },
  {
   "cell_type": "code",
   "execution_count": 158,
   "id": "e3bcc6fc-d92e-4ddf-a9dc-ae37d11f5b61",
   "metadata": {},
   "outputs": [],
   "source": [
    "# Resample and remove NaN\n",
    "df = df['PM2.5'].resample('D').mean().to_frame().fillna(method = 'ffill')"
   ]
  },
  {
   "cell_type": "code",
   "execution_count": 24,
   "id": "1f5b290d-66e0-46c2-8ffc-9463c003fe6f",
   "metadata": {},
   "outputs": [
    {
     "data": {
      "text/plain": [
       "PM2.5    0\n",
       "dtype: int64"
      ]
     },
     "execution_count": 24,
     "metadata": {},
     "output_type": "execute_result"
    }
   ],
   "source": [
    "# validate if there are still NaN values\n",
    "df.isna().sum()"
   ]
  },
  {
   "cell_type": "markdown",
   "id": "506eed33-ae26-4681-b471-b23082e4e418",
   "metadata": {},
   "source": [
    "# Exploratory Data Analysis"
   ]
  },
  {
   "cell_type": "markdown",
   "id": "6418bf13-72f8-45c1-ad36-ef71537d00d6",
   "metadata": {},
   "source": [
    "# Rolling Window"
   ]
  },
  {
   "cell_type": "code",
   "execution_count": 27,
   "id": "b1b2489e-263a-4a54-b702-29fce1c017ce",
   "metadata": {},
   "outputs": [
    {
     "data": {
      "image/png": "[encoded data removed]",
      "text/plain": [
       "<Figure size 1000x600 with 1 Axes>"
      ]
     },
     "metadata": {},
     "output_type": "display_data"
    }
   ],
   "source": [
    "fig, ax = plt.subplots(figsize = (10, 6))\n",
    "df.rolling(168).mean().plot(ax =ax, ylabel='', title = '');"
   ]
  },
  {
   "cell_type": "markdown",
   "id": "f4b42596-c468-495c-8fb2-1e583def11fa",
   "metadata": {},
   "source": [
    "# Create Lag(Predictor)"
   ]
  },
  {
   "cell_type": "code",
   "execution_count": 29,
   "id": "d242834c-8362-465e-abce-3b0446b2d0c1",
   "metadata": {},
   "outputs": [],
   "source": [
    "df['PMt-1'] = df['PM2.5'].shift(1)"
   ]
  },
  {
   "cell_type": "code",
   "execution_count": 30,
   "id": "7c507185-2009-4207-a827-a1e2f2f649f6",
   "metadata": {},
   "outputs": [],
   "source": [
    "df.dropna(inplace =True)"
   ]
  },
  {
   "cell_type": "code",
   "execution_count": 31,
   "id": "88f419b4-86ab-45ae-a626-ba45d0de7bca",
   "metadata": {},
   "outputs": [
    {
     "data": {
      "text/html": [
       "<div>\n",
       "<style scoped>\n",
       "    .dataframe tbody tr th:only-of-type {\n",
       "        vertical-align: middle;\n",
       "    }\n",
       "\n",
       "    .dataframe tbody tr th {\n",
       "        vertical-align: top;\n",
       "    }\n",
       "\n",
       "    .dataframe thead th {\n",
       "        text-align: right;\n",
       "    }\n",
       "</style>\n",
       "<table border=\"1\" class=\"dataframe\">\n",
       "  <thead>\n",
       "    <tr style=\"text-align: right;\">\n",
       "      <th></th>\n",
       "      <th>PM2.5</th>\n",
       "      <th>PMt-1</th>\n",
       "    </tr>\n",
       "    <tr>\n",
       "      <th>Timestamp</th>\n",
       "      <th></th>\n",
       "      <th></th>\n",
       "    </tr>\n",
       "  </thead>\n",
       "  <tbody>\n",
       "    <tr>\n",
       "      <th>2017-11-08 00:00:00+05:30</th>\n",
       "      <td>105.876957</td>\n",
       "      <td>100.152857</td>\n",
       "    </tr>\n",
       "    <tr>\n",
       "      <th>2017-11-09 00:00:00+05:30</th>\n",
       "      <td>114.665000</td>\n",
       "      <td>105.876957</td>\n",
       "    </tr>\n",
       "    <tr>\n",
       "      <th>2017-11-10 00:00:00+05:30</th>\n",
       "      <td>118.872609</td>\n",
       "      <td>114.665000</td>\n",
       "    </tr>\n",
       "    <tr>\n",
       "      <th>2017-11-11 00:00:00+05:30</th>\n",
       "      <td>109.895000</td>\n",
       "      <td>118.872609</td>\n",
       "    </tr>\n",
       "    <tr>\n",
       "      <th>2017-11-12 00:00:00+05:30</th>\n",
       "      <td>117.071579</td>\n",
       "      <td>109.895000</td>\n",
       "    </tr>\n",
       "  </tbody>\n",
       "</table>\n",
       "</div>"
      ],
      "text/plain": [
       "                                PM2.5       PMt-1\n",
       "Timestamp                                        \n",
       "2017-11-08 00:00:00+05:30  105.876957  100.152857\n",
       "2017-11-09 00:00:00+05:30  114.665000  105.876957\n",
       "2017-11-10 00:00:00+05:30  118.872609  114.665000\n",
       "2017-11-11 00:00:00+05:30  109.895000  118.872609\n",
       "2017-11-12 00:00:00+05:30  117.071579  109.895000"
      ]
     },
     "execution_count": 31,
     "metadata": {},
     "output_type": "execute_result"
    }
   ],
   "source": [
    "df.head()"
   ]
  },
  {
   "cell_type": "markdown",
   "id": "96d59f86-0a41-4c05-a36d-4fcd25d00dde",
   "metadata": {},
   "source": [
    "# Autocorrelation"
   ]
  },
  {
   "cell_type": "code",
   "execution_count": 33,
   "id": "c54c8faa-731b-4ba4-9ee9-98a46f391e2d",
   "metadata": {},
   "outputs": [
    {
     "data": {
      "text/html": [
       "<div>\n",
       "<style scoped>\n",
       "    .dataframe tbody tr th:only-of-type {\n",
       "        vertical-align: middle;\n",
       "    }\n",
       "\n",
       "    .dataframe tbody tr th {\n",
       "        vertical-align: top;\n",
       "    }\n",
       "\n",
       "    .dataframe thead th {\n",
       "        text-align: right;\n",
       "    }\n",
       "</style>\n",
       "<table border=\"1\" class=\"dataframe\">\n",
       "  <thead>\n",
       "    <tr style=\"text-align: right;\">\n",
       "      <th></th>\n",
       "      <th>PM2.5</th>\n",
       "      <th>PMt-1</th>\n",
       "    </tr>\n",
       "  </thead>\n",
       "  <tbody>\n",
       "    <tr>\n",
       "      <th>PM2.5</th>\n",
       "      <td>1.000000</td>\n",
       "      <td>0.971555</td>\n",
       "    </tr>\n",
       "    <tr>\n",
       "      <th>PMt-1</th>\n",
       "      <td>0.971555</td>\n",
       "      <td>1.000000</td>\n",
       "    </tr>\n",
       "  </tbody>\n",
       "</table>\n",
       "</div>"
      ],
      "text/plain": [
       "          PM2.5     PMt-1\n",
       "PM2.5  1.000000  0.971555\n",
       "PMt-1  0.971555  1.000000"
      ]
     },
     "execution_count": 33,
     "metadata": {},
     "output_type": "execute_result"
    }
   ],
   "source": [
    "df.corr()"
   ]
  },
  {
   "cell_type": "code",
   "execution_count": 152,
   "id": "30fa98fd-9de3-4096-91bf-b1c45229511a",
   "metadata": {},
   "outputs": [
    {
     "data": {
      "text/plain": [
       "<Axes: xlabel='PM2.5', ylabel='PMt-1'>"
      ]
     },
     "execution_count": 152,
     "metadata": {},
     "output_type": "execute_result"
    },
    {
     "data": {
      "image/png": "[encoded data removed]",
      "text/plain": [
       "<Figure size 1000x600 with 1 Axes>"
      ]
     },
     "metadata": {},
     "output_type": "display_data"
    }
   ],
   "source": [
    "import seaborn as sns\n",
    "fig, ax = plt.subplots(figsize=(10, 6))\n",
    "sns.regplot(x = df['PM2.5'], y =df['PMt-1'], ci = None, ax = ax)"
   ]
  },
  {
   "cell_type": "code",
   "execution_count": 34,
   "id": "49f88eb3-bd27-40c8-b43a-43bce62e6fcb",
   "metadata": {},
   "outputs": [
    {
     "data": {
      "text/plain": [
       "Text(0.5, 1.0, 'Autcorrelation')"
      ]
     },
     "execution_count": 34,
     "metadata": {},
     "output_type": "execute_result"
    },
    {
     "data": {
      "image/png": "[encoded data removed]",
      "text/plain": [
       "<Figure size 1000x600 with 1 Axes>"
      ]
     },
     "metadata": {},
     "output_type": "display_data"
    }
   ],
   "source": [
    "fig, ax = plt.subplots(figsize=(10, 6))\n",
    "ax.scatter(x = df['PM2.5'], y =df['PMt-1'])\n",
    "ax.plot([0,250], [0,250], color = 'red', linestyle = '--')\n",
    "plt.xlabel('PM2.5 values')\n",
    "plt.ylabel('PMt-1 values')\n",
    "plt.title('Autcorrelation')"
   ]
  },
  {
   "cell_type": "code",
   "execution_count": 35,
   "id": "0287ebd5-2973-48db-b680-283ac0b3c74c",
   "metadata": {},
   "outputs": [],
   "source": [
    "# split data into X matrix and y Vector"
   ]
  },
  {
   "cell_type": "code",
   "execution_count": 36,
   "id": "5e68ccef-5e63-440b-8935-15de24411f6c",
   "metadata": {},
   "outputs": [],
   "source": [
    "target = 'PM2.5'\n",
    "X = df.drop(columns = target)\n",
    "y = df[target]"
   ]
  },
  {
   "cell_type": "code",
   "execution_count": 37,
   "id": "7e6d47a0-756b-4b01-89c2-8f79ca9dc577",
   "metadata": {},
   "outputs": [],
   "source": [
    "# Train test split"
   ]
  },
  {
   "cell_type": "code",
   "execution_count": 38,
   "id": "d1f066b7-5fea-426d-bbe5-aa3d20b1bc0b",
   "metadata": {},
   "outputs": [],
   "source": [
    "cutoff = round(len(X) * 0.8)"
   ]
  },
  {
   "cell_type": "code",
   "execution_count": 39,
   "id": "238cd91b-a61f-456c-9283-8e3527005288",
   "metadata": {},
   "outputs": [],
   "source": [
    "X_train = X.iloc[:cutoff]\n",
    "X_test = X.iloc[cutoff:]\n",
    "y_train = y.iloc[:cutoff]\n",
    "y_test = y.iloc[cutoff:]"
   ]
  },
  {
   "cell_type": "code",
   "execution_count": 40,
   "id": "f44d1178-dd4b-4910-96bf-56221a7fb335",
   "metadata": {},
   "outputs": [
    {
     "name": "stdout",
     "output_type": "stream",
     "text": [
      "(1336, 1)\n",
      "(1336,)\n",
      "(334, 1)\n",
      "(334,)\n"
     ]
    }
   ],
   "source": [
    "print(X_train.shape)\n",
    "print(y_train.shape)\n",
    "print(X_test.shape)\n",
    "print(y_test.shape)"
   ]
  },
  {
   "cell_type": "markdown",
   "id": "eeb36586-092e-4d10-970c-7cc915046387",
   "metadata": {},
   "source": [
    "# Build Baseline Model"
   ]
  },
  {
   "cell_type": "code",
   "execution_count": 42,
   "id": "b28f5047-c53e-4f8d-b053-f33282b743df",
   "metadata": {},
   "outputs": [
    {
     "name": "stdout",
     "output_type": "stream",
     "text": [
      "mean P2 value is 49.676\n",
      "baseline mae is 20.538\n"
     ]
    }
   ],
   "source": [
    "y_mean = y_train.mean()\n",
    "y_predict_baseline = [y_mean] * len(y_train)\n",
    "mae_baseline = mean_absolute_error(y_train, y_predict_baseline)\n",
    "\n",
    "print('mean P2 value is', round(y_mean, 3))\n",
    "print('baseline mae is', round(mae_baseline, 3))"
   ]
  },
  {
   "cell_type": "code",
   "execution_count": 43,
   "id": "bae06a96-afad-42f0-9bd7-c57f1aa39022",
   "metadata": {},
   "outputs": [],
   "source": [
    "# Iterate or Select Model"
   ]
  },
  {
   "cell_type": "code",
   "execution_count": 44,
   "id": "003eea2c-8186-473e-9e4e-50cdd90a599c",
   "metadata": {},
   "outputs": [
    {
     "data": {
      "text/html": [
       "<style>#sk-container-id-1 {color: black;background-color: white;}#sk-container-id-1 pre{padding: 0;}#sk-container-id-1 div.sk-toggleable {background-color: white;}#sk-container-id-1 label.sk-toggleable__label {cursor: pointer;display: block;width: 100%;margin-bottom: 0;padding: 0.3em;box-sizing: border-box;text-align: center;}#sk-container-id-1 label.sk-toggleable__label-arrow:before {content: \"▸\";float: left;margin-right: 0.25em;color: #696969;}#sk-container-id-1 label.sk-toggleable__label-arrow:hover:before {color: black;}#sk-container-id-1 div.sk-estimator:hover label.sk-toggleable__label-arrow:before {color: black;}#sk-container-id-1 div.sk-toggleable__content {max-height: 0;max-width: 0;overflow: hidden;text-align: left;background-color: #f0f8ff;}#sk-container-id-1 div.sk-toggleable__content pre {margin: 0.2em;color: black;border-radius: 0.25em;background-color: #f0f8ff;}#sk-container-id-1 input.sk-toggleable__control:checked~div.sk-toggleable__content {max-height: 200px;max-width: 100%;overflow: auto;}#sk-container-id-1 input.sk-toggleable__control:checked~label.sk-toggleable__label-arrow:before {content: \"▾\";}#sk-container-id-1 div.sk-estimator input.sk-toggleable__control:checked~label.sk-toggleable__label {background-color: #d4ebff;}#sk-container-id-1 div.sk-label input.sk-toggleable__control:checked~label.sk-toggleable__label {background-color: #d4ebff;}#sk-container-id-1 input.sk-hidden--visually {border: 0;clip: rect(1px 1px 1px 1px);clip: rect(1px, 1px, 1px, 1px);height: 1px;margin: -1px;overflow: hidden;padding: 0;position: absolute;width: 1px;}#sk-container-id-1 div.sk-estimator {font-family: monospace;background-color: #f0f8ff;border: 1px dotted black;border-radius: 0.25em;box-sizing: border-box;margin-bottom: 0.5em;}#sk-container-id-1 div.sk-estimator:hover {background-color: #d4ebff;}#sk-container-id-1 div.sk-parallel-item::after {content: \"\";width: 100%;border-bottom: 1px solid gray;flex-grow: 1;}#sk-container-id-1 div.sk-label:hover label.sk-toggleable__label {background-color: #d4ebff;}#sk-container-id-1 div.sk-serial::before {content: \"\";position: absolute;border-left: 1px solid gray;box-sizing: border-box;top: 0;bottom: 0;left: 50%;z-index: 0;}#sk-container-id-1 div.sk-serial {display: flex;flex-direction: column;align-items: center;background-color: white;padding-right: 0.2em;padding-left: 0.2em;position: relative;}#sk-container-id-1 div.sk-item {position: relative;z-index: 1;}#sk-container-id-1 div.sk-parallel {display: flex;align-items: stretch;justify-content: center;background-color: white;position: relative;}#sk-container-id-1 div.sk-item::before, #sk-container-id-1 div.sk-parallel-item::before {content: \"\";position: absolute;border-left: 1px solid gray;box-sizing: border-box;top: 0;bottom: 0;left: 50%;z-index: -1;}#sk-container-id-1 div.sk-parallel-item {display: flex;flex-direction: column;z-index: 1;position: relative;background-color: white;}#sk-container-id-1 div.sk-parallel-item:first-child::after {align-self: flex-end;width: 50%;}#sk-container-id-1 div.sk-parallel-item:last-child::after {align-self: flex-start;width: 50%;}#sk-container-id-1 div.sk-parallel-item:only-child::after {width: 0;}#sk-container-id-1 div.sk-dashed-wrapped {border: 1px dashed gray;margin: 0 0.4em 0.5em 0.4em;box-sizing: border-box;padding-bottom: 0.4em;background-color: white;}#sk-container-id-1 div.sk-label label {font-family: monospace;font-weight: bold;display: inline-block;line-height: 1.2em;}#sk-container-id-1 div.sk-label-container {text-align: center;}#sk-container-id-1 div.sk-container {/* jupyter's `normalize.less` sets `[hidden] { display: none; }` but bootstrap.min.css set `[hidden] { display: none !important; }` so we also need the `!important` here to be able to override the default hidden behavior on the sphinx rendered scikit-learn.org. See: https://github.com/scikit-learn/scikit-learn/issues/21755 */display: inline-block !important;position: relative;}#sk-container-id-1 div.sk-text-repr-fallback {display: none;}</style><div id=\"sk-container-id-1\" class=\"sk-top-container\"><div class=\"sk-text-repr-fallback\"><pre>LinearRegression()</pre><b>In a Jupyter environment, please rerun this cell to show the HTML representation or trust the notebook. <br />On GitHub, the HTML representation is unable to render, please try loading this page with nbviewer.org.</b></div><div class=\"sk-container\" hidden><div class=\"sk-item\"><div class=\"sk-estimator sk-toggleable\"><input class=\"sk-toggleable__control sk-hidden--visually\" id=\"sk-estimator-id-1\" type=\"checkbox\" checked><label for=\"sk-estimator-id-1\" class=\"sk-toggleable__label sk-toggleable__label-arrow\">LinearRegression</label><div class=\"sk-toggleable__content\"><pre>LinearRegression()</pre></div></div></div></div></div>"
      ],
      "text/plain": [
       "LinearRegression()"
      ]
     },
     "execution_count": 44,
     "metadata": {},
     "output_type": "execute_result"
    }
   ],
   "source": [
    "model = LinearRegression()\n",
    "model.fit(X_train, y_train)"
   ]
  },
  {
   "cell_type": "code",
   "execution_count": 45,
   "id": "5d3d1115-3791-42d4-9fe6-3b5c4997ad2f",
   "metadata": {},
   "outputs": [],
   "source": [
    "#  Evaluate"
   ]
  },
  {
   "cell_type": "code",
   "execution_count": 46,
   "id": "99d2816b-0e3d-4e3e-bea8-cfd1c2b829d6",
   "metadata": {},
   "outputs": [],
   "source": [
    "training_mae = mean_absolute_error(y_train, model.predict(X_train))"
   ]
  },
  {
   "cell_type": "code",
   "execution_count": 47,
   "id": "2dcb4b52-6366-446c-9b25-6de6eefb680a",
   "metadata": {},
   "outputs": [],
   "source": [
    "test_mae = mean_absolute_error(y_test, model.predict(X_test))"
   ]
  },
  {
   "cell_type": "code",
   "execution_count": 48,
   "id": "7344bb5b-a5e7-46e3-8889-d6bbe9199992",
   "metadata": {},
   "outputs": [
    {
     "name": "stdout",
     "output_type": "stream",
     "text": [
      "training mae is 3.659404301667696\n",
      "test mae is 3.149982768059814\n"
     ]
    }
   ],
   "source": [
    "print('training mae is', training_mae)\n",
    "print('test mae is', test_mae)"
   ]
  },
  {
   "cell_type": "markdown",
   "id": "bc36ac12-44b5-4691-b8aa-33cae0335f68",
   "metadata": {},
   "source": [
    "# Communicate Result"
   ]
  },
  {
   "cell_type": "code",
   "execution_count": 50,
   "id": "76b4be52-2044-4fb1-a2e1-d8cbf3d6043f",
   "metadata": {},
   "outputs": [],
   "source": [
    "intercept = round(model.intercept_, 2)"
   ]
  },
  {
   "cell_type": "code",
   "execution_count": 51,
   "id": "4dae933a-3506-4148-830f-9f622f1b87e7",
   "metadata": {},
   "outputs": [],
   "source": [
    "coefficient = model.coef_.round(2)"
   ]
  },
  {
   "cell_type": "code",
   "execution_count": 108,
   "id": "e1cb851c-0542-444e-a81e-08a6cfe9cfa5",
   "metadata": {},
   "outputs": [
    {
     "name": "stdout",
     "output_type": "stream",
     "text": [
      "PM2.5 = 1.38 + 0.97 * PMt-1\n"
     ]
    }
   ],
   "source": [
    "print(f'PM2.5 = {intercept} + {coefficient[0]} * PMt-1')"
   ]
  },
  {
   "cell_type": "code",
   "execution_count": 53,
   "id": "0114b2c8-6539-45c6-a3d2-84259af83b21",
   "metadata": {},
   "outputs": [],
   "source": [
    "#  put into DataFrame"
   ]
  },
  {
   "cell_type": "code",
   "execution_count": 54,
   "id": "10790149-1742-4cec-bc83-491f18177b68",
   "metadata": {},
   "outputs": [],
   "source": [
    "df_pred_test = pd.DataFrame(\n",
    "    {\n",
    "    'y_test': y_test,\n",
    "    'y_pred': model.predict(X_test)\n",
    "    }\n",
    ")"
   ]
  },
  {
   "cell_type": "code",
   "execution_count": 55,
   "id": "b41a74a6-0ad2-48fd-8a53-8026a80d0caa",
   "metadata": {},
   "outputs": [
    {
     "data": {
      "text/html": [
       "<div>\n",
       "<style scoped>\n",
       "    .dataframe tbody tr th:only-of-type {\n",
       "        vertical-align: middle;\n",
       "    }\n",
       "\n",
       "    .dataframe tbody tr th {\n",
       "        vertical-align: top;\n",
       "    }\n",
       "\n",
       "    .dataframe thead th {\n",
       "        text-align: right;\n",
       "    }\n",
       "</style>\n",
       "<table border=\"1\" class=\"dataframe\">\n",
       "  <thead>\n",
       "    <tr style=\"text-align: right;\">\n",
       "      <th></th>\n",
       "      <th>y_test</th>\n",
       "      <th>y_pred</th>\n",
       "    </tr>\n",
       "    <tr>\n",
       "      <th>Timestamp</th>\n",
       "      <th></th>\n",
       "      <th></th>\n",
       "    </tr>\n",
       "  </thead>\n",
       "  <tbody>\n",
       "    <tr>\n",
       "      <th>2021-07-06 00:00:00+05:30</th>\n",
       "      <td>29.241667</td>\n",
       "      <td>29.007102</td>\n",
       "    </tr>\n",
       "    <tr>\n",
       "      <th>2021-07-07 00:00:00+05:30</th>\n",
       "      <td>30.513750</td>\n",
       "      <td>29.777604</td>\n",
       "    </tr>\n",
       "    <tr>\n",
       "      <th>2021-07-08 00:00:00+05:30</th>\n",
       "      <td>25.427083</td>\n",
       "      <td>31.013080</td>\n",
       "    </tr>\n",
       "    <tr>\n",
       "      <th>2021-07-09 00:00:00+05:30</th>\n",
       "      <td>24.082500</td>\n",
       "      <td>26.072798</td>\n",
       "    </tr>\n",
       "    <tr>\n",
       "      <th>2021-07-10 00:00:00+05:30</th>\n",
       "      <td>26.101667</td>\n",
       "      <td>24.766909</td>\n",
       "    </tr>\n",
       "    <tr>\n",
       "      <th>...</th>\n",
       "      <td>...</td>\n",
       "      <td>...</td>\n",
       "    </tr>\n",
       "    <tr>\n",
       "      <th>2022-05-31 00:00:00+05:30</th>\n",
       "      <td>39.869583</td>\n",
       "      <td>36.520312</td>\n",
       "    </tr>\n",
       "    <tr>\n",
       "      <th>2022-06-01 00:00:00+05:30</th>\n",
       "      <td>42.536667</td>\n",
       "      <td>40.099670</td>\n",
       "    </tr>\n",
       "    <tr>\n",
       "      <th>2022-06-02 00:00:00+05:30</th>\n",
       "      <td>41.136667</td>\n",
       "      <td>42.689999</td>\n",
       "    </tr>\n",
       "    <tr>\n",
       "      <th>2022-06-03 00:00:00+05:30</th>\n",
       "      <td>40.588333</td>\n",
       "      <td>41.330289</td>\n",
       "    </tr>\n",
       "    <tr>\n",
       "      <th>2022-06-04 00:00:00+05:30</th>\n",
       "      <td>38.809524</td>\n",
       "      <td>40.797735</td>\n",
       "    </tr>\n",
       "  </tbody>\n",
       "</table>\n",
       "<p>334 rows × 2 columns</p>\n",
       "</div>"
      ],
      "text/plain": [
       "                              y_test     y_pred\n",
       "Timestamp                                      \n",
       "2021-07-06 00:00:00+05:30  29.241667  29.007102\n",
       "2021-07-07 00:00:00+05:30  30.513750  29.777604\n",
       "2021-07-08 00:00:00+05:30  25.427083  31.013080\n",
       "2021-07-09 00:00:00+05:30  24.082500  26.072798\n",
       "2021-07-10 00:00:00+05:30  26.101667  24.766909\n",
       "...                              ...        ...\n",
       "2022-05-31 00:00:00+05:30  39.869583  36.520312\n",
       "2022-06-01 00:00:00+05:30  42.536667  40.099670\n",
       "2022-06-02 00:00:00+05:30  41.136667  42.689999\n",
       "2022-06-03 00:00:00+05:30  40.588333  41.330289\n",
       "2022-06-04 00:00:00+05:30  38.809524  40.797735\n",
       "\n",
       "[334 rows x 2 columns]"
      ]
     },
     "execution_count": 55,
     "metadata": {},
     "output_type": "execute_result"
    }
   ],
   "source": [
    "df_pred_test"
   ]
  },
  {
   "cell_type": "code",
   "execution_count": 56,
   "id": "05863be3-4737-45b7-af12-820e42220350",
   "metadata": {},
   "outputs": [],
   "source": [
    "# import warnings\n",
    "# warnings.simplefilter(action ='ignore', category ='FutureWarnings')"
   ]
  },
  {
   "cell_type": "code",
   "execution_count": 156,
   "id": "f5256bc1-3100-4650-bce5-203c02e85954",
   "metadata": {},
   "outputs": [
    {
     "data": {
      "application/vnd.plotly.v1+json": {
       "config": {
        "plotlyServerURL": "https://plot.ly"
       },
       "data": [
        {
         "hovertemplate": "variable=y_test<br>Timestamp=%{x}<br>PM2.5=%{y}<extra></extra>",
         "legendgroup": "y_test",
         "line": {
          "color": "#636efa",
          "dash": "solid"
         },
         "marker": {
          "symbol": "circle"
         },
         "mode": "lines",
         "name": "y_test",
         "orientation": "v",
         "showlegend": true,
         "type": "scatter",
         "x": [
          "2021-07-06T00:00:00+05:30",
          "2021-07-07T00:00:00+05:30",
          "2021-07-08T00:00:00+05:30",
          "2021-07-09T00:00:00+05:30",
          "2021-07-10T00:00:00+05:30",
          "2021-07-11T00:00:00+05:30",
          "2021-07-12T00:00:00+05:30",
          "2021-07-13T00:00:00+05:30",
          "2021-07-14T00:00:00+05:30",
          "2021-07-15T00:00:00+05:30",
          "2021-07-16T00:00:00+05:30",
          "2021-07-17T00:00:00+05:30",
          "2021-07-18T00:00:00+05:30",
          "2021-07-19T00:00:00+05:30",
          "2021-07-20T00:00:00+05:30",
          "2021-07-21T00:00:00+05:30",
          "2021-07-22T00:00:00+05:30",
          "2021-07-23T00:00:00+05:30",
          "2021-07-24T00:00:00+05:30",
          "2021-07-25T00:00:00+05:30",
          "2021-07-26T00:00:00+05:30",
          "2021-07-27T00:00:00+05:30",
          "2021-07-28T00:00:00+05:30",
          "2021-07-29T00:00:00+05:30",
          "2021-07-30T00:00:00+05:30",
          "2021-07-31T00:00:00+05:30",
          "2021-08-01T00:00:00+05:30",
          "2021-08-02T00:00:00+05:30",
          "2021-08-03T00:00:00+05:30",
          "2021-08-04T00:00:00+05:30",
          "2021-08-05T00:00:00+05:30",
          "2021-08-06T00:00:00+05:30",
          "2021-08-07T00:00:00+05:30",
          "2021-08-08T00:00:00+05:30",
          "2021-08-09T00:00:00+05:30",
          "2021-08-10T00:00:00+05:30",
          "2021-08-11T00:00:00+05:30",
          "2021-08-12T00:00:00+05:30",
          "2021-08-13T00:00:00+05:30",
          "2021-08-14T00:00:00+05:30",
          "2021-08-15T00:00:00+05:30",
          "2021-08-16T00:00:00+05:30",
          "2021-08-17T00:00:00+05:30",
          "2021-08-18T00:00:00+05:30",
          "2021-08-19T00:00:00+05:30",
          "2021-08-20T00:00:00+05:30",
          "2021-08-21T00:00:00+05:30",
          "2021-08-22T00:00:00+05:30",
          "2021-08-23T00:00:00+05:30",
          "2021-08-24T00:00:00+05:30",
          "2021-08-25T00:00:00+05:30",
          "2021-08-26T00:00:00+05:30",
          "2021-08-27T00:00:00+05:30",
          "2021-08-28T00:00:00+05:30",
          "2021-08-29T00:00:00+05:30",
          "2021-08-30T00:00:00+05:30",
          "2021-08-31T00:00:00+05:30",
          "2021-09-01T00:00:00+05:30",
          "2021-09-02T00:00:00+05:30",
          "2021-09-03T00:00:00+05:30",
          "2021-09-04T00:00:00+05:30",
          "2021-09-05T00:00:00+05:30",
          "2021-09-06T00:00:00+05:30",
          "2021-09-07T00:00:00+05:30",
          "2021-09-08T00:00:00+05:30",
          "2021-09-09T00:00:00+05:30",
          "2021-09-10T00:00:00+05:30",
          "2021-09-11T00:00:00+05:30",
          "2021-09-12T00:00:00+05:30",
          "2021-09-13T00:00:00+05:30",
          "2021-09-14T00:00:00+05:30",
          "2021-09-15T00:00:00+05:30",
          "2021-09-16T00:00:00+05:30",
          "2021-09-17T00:00:00+05:30",
          "2021-09-18T00:00:00+05:30",
          "2021-09-19T00:00:00+05:30",
          "2021-09-20T00:00:00+05:30",
          "2021-09-21T00:00:00+05:30",
          "2021-09-22T00:00:00+05:30",
          "2021-09-23T00:00:00+05:30",
          "2021-09-24T00:00:00+05:30",
          "2021-09-25T00:00:00+05:30",
          "2021-09-26T00:00:00+05:30",
          "2021-09-27T00:00:00+05:30",
          "2021-09-28T00:00:00+05:30",
          "2021-09-29T00:00:00+05:30",
          "2021-09-30T00:00:00+05:30",
          "2021-10-01T00:00:00+05:30",
          "2021-10-02T00:00:00+05:30",
          "2021-10-03T00:00:00+05:30",
          "2021-10-04T00:00:00+05:30",
          "2021-10-05T00:00:00+05:30",
          "2021-10-06T00:00:00+05:30",
          "2021-10-07T00:00:00+05:30",
          "2021-10-08T00:00:00+05:30",
          "2021-10-09T00:00:00+05:30",
          "2021-10-10T00:00:00+05:30",
          "2021-10-11T00:00:00+05:30",
          "2021-10-12T00:00:00+05:30",
          "2021-10-13T00:00:00+05:30",
          "2021-10-14T00:00:00+05:30",
          "2021-10-15T00:00:00+05:30",
          "2021-10-16T00:00:00+05:30",
          "2021-10-17T00:00:00+05:30",
          "2021-10-18T00:00:00+05:30",
          "2021-10-19T00:00:00+05:30",
          "2021-10-20T00:00:00+05:30",
          "2021-10-21T00:00:00+05:30",
          "2021-10-22T00:00:00+05:30",
          "2021-10-23T00:00:00+05:30",
          "2021-10-24T00:00:00+05:30",
          "2021-10-25T00:00:00+05:30",
          "2021-10-26T00:00:00+05:30",
          "2021-10-27T00:00:00+05:30",
          "2021-10-28T00:00:00+05:30",
          "2021-10-29T00:00:00+05:30",
          "2021-10-30T00:00:00+05:30",
          "2021-10-31T00:00:00+05:30",
          "2021-11-01T00:00:00+05:30",
          "2021-11-02T00:00:00+05:30",
          "2021-11-03T00:00:00+05:30",
          "2021-11-04T00:00:00+05:30",
          "2021-11-05T00:00:00+05:30",
          "2021-11-06T00:00:00+05:30",
          "2021-11-07T00:00:00+05:30",
          "2021-11-08T00:00:00+05:30",
          "2021-11-09T00:00:00+05:30",
          "2021-11-10T00:00:00+05:30",
          "2021-11-11T00:00:00+05:30",
          "2021-11-12T00:00:00+05:30",
          "2021-11-13T00:00:00+05:30",
          "2021-11-14T00:00:00+05:30",
          "2021-11-15T00:00:00+05:30",
          "2021-11-16T00:00:00+05:30",
          "2021-11-17T00:00:00+05:30",
          "2021-11-18T00:00:00+05:30",
          "2021-11-19T00:00:00+05:30",
          "2021-11-20T00:00:00+05:30",
          "2021-11-21T00:00:00+05:30",
          "2021-11-22T00:00:00+05:30",
          "2021-11-23T00:00:00+05:30",
          "2021-11-24T00:00:00+05:30",
          "2021-11-25T00:00:00+05:30",
          "2021-11-26T00:00:00+05:30",
          "2021-11-27T00:00:00+05:30",
          "2021-11-28T00:00:00+05:30",
          "2021-11-29T00:00:00+05:30",
          "2021-11-30T00:00:00+05:30",
          "2021-12-01T00:00:00+05:30",
          "2021-12-02T00:00:00+05:30",
          "2021-12-03T00:00:00+05:30",
          "2021-12-04T00:00:00+05:30",
          "2021-12-05T00:00:00+05:30",
          "2021-12-06T00:00:00+05:30",
          "2021-12-07T00:00:00+05:30",
          "2021-12-08T00:00:00+05:30",
          "2021-12-09T00:00:00+05:30",
          "2021-12-10T00:00:00+05:30",
          "2021-12-11T00:00:00+05:30",
          "2021-12-12T00:00:00+05:30",
          "2021-12-13T00:00:00+05:30",
          "2021-12-14T00:00:00+05:30",
          "2021-12-15T00:00:00+05:30",
          "2021-12-16T00:00:00+05:30",
          "2021-12-17T00:00:00+05:30",
          "2021-12-18T00:00:00+05:30",
          "2021-12-19T00:00:00+05:30",
          "2021-12-20T00:00:00+05:30",
          "2021-12-21T00:00:00+05:30",
          "2021-12-22T00:00:00+05:30",
          "2021-12-23T00:00:00+05:30",
          "2021-12-24T00:00:00+05:30",
          "2021-12-25T00:00:00+05:30",
          "2021-12-26T00:00:00+05:30",
          "2021-12-27T00:00:00+05:30",
          "2021-12-28T00:00:00+05:30",
          "2021-12-29T00:00:00+05:30",
          "2021-12-30T00:00:00+05:30",
          "2021-12-31T00:00:00+05:30",
          "2022-01-01T00:00:00+05:30",
          "2022-01-02T00:00:00+05:30",
          "2022-01-03T00:00:00+05:30",
          "2022-01-04T00:00:00+05:30",
          "2022-01-05T00:00:00+05:30",
          "2022-01-06T00:00:00+05:30",
          "2022-01-07T00:00:00+05:30",
          "2022-01-08T00:00:00+05:30",
          "2022-01-09T00:00:00+05:30",
          "2022-01-10T00:00:00+05:30",
          "2022-01-11T00:00:00+05:30",
          "2022-01-12T00:00:00+05:30",
          "2022-01-13T00:00:00+05:30",
          "2022-01-14T00:00:00+05:30",
          "2022-01-15T00:00:00+05:30",
          "2022-01-16T00:00:00+05:30",
          "2022-01-17T00:00:00+05:30",
          "2022-01-18T00:00:00+05:30",
          "2022-01-19T00:00:00+05:30",
          "2022-01-20T00:00:00+05:30",
          "2022-01-21T00:00:00+05:30",
          "2022-01-22T00:00:00+05:30",
          "2022-01-23T00:00:00+05:30",
          "2022-01-24T00:00:00+05:30",
          "2022-01-25T00:00:00+05:30",
          "2022-01-26T00:00:00+05:30",
          "2022-01-27T00:00:00+05:30",
          "2022-01-28T00:00:00+05:30",
          "2022-01-29T00:00:00+05:30",
          "2022-01-30T00:00:00+05:30",
          "2022-01-31T00:00:00+05:30",
          "2022-02-01T00:00:00+05:30",
          "2022-02-02T00:00:00+05:30",
          "2022-02-03T00:00:00+05:30",
          "2022-02-04T00:00:00+05:30",
          "2022-02-05T00:00:00+05:30",
          "2022-02-06T00:00:00+05:30",
          "2022-02-07T00:00:00+05:30",
          "2022-02-08T00:00:00+05:30",
          "2022-02-09T00:00:00+05:30",
          "2022-02-10T00:00:00+05:30",
          "2022-02-11T00:00:00+05:30",
          "2022-02-12T00:00:00+05:30",
          "2022-02-13T00:00:00+05:30",
          "2022-02-14T00:00:00+05:30",
          "2022-02-15T00:00:00+05:30",
          "2022-02-16T00:00:00+05:30",
          "2022-02-17T00:00:00+05:30",
          "2022-02-18T00:00:00+05:30",
          "2022-02-19T00:00:00+05:30",
          "2022-02-20T00:00:00+05:30",
          "2022-02-21T00:00:00+05:30",
          "2022-02-22T00:00:00+05:30",
          "2022-02-23T00:00:00+05:30",
          "2022-02-24T00:00:00+05:30",
          "2022-02-25T00:00:00+05:30",
          "2022-02-26T00:00:00+05:30",
          "2022-02-27T00:00:00+05:30",
          "2022-02-28T00:00:00+05:30",
          "2022-03-01T00:00:00+05:30",
          "2022-03-02T00:00:00+05:30",
          "2022-03-03T00:00:00+05:30",
          "2022-03-04T00:00:00+05:30",
          "2022-03-05T00:00:00+05:30",
          "2022-03-06T00:00:00+05:30",
          "2022-03-07T00:00:00+05:30",
          "2022-03-08T00:00:00+05:30",
          "2022-03-09T00:00:00+05:30",
          "2022-03-10T00:00:00+05:30",
          "2022-03-11T00:00:00+05:30",
          "2022-03-12T00:00:00+05:30",
          "2022-03-13T00:00:00+05:30",
          "2022-03-14T00:00:00+05:30",
          "2022-03-15T00:00:00+05:30",
          "2022-03-16T00:00:00+05:30",
          "2022-03-17T00:00:00+05:30",
          "2022-03-18T00:00:00+05:30",
          "2022-03-19T00:00:00+05:30",
          "2022-03-20T00:00:00+05:30",
          "2022-03-21T00:00:00+05:30",
          "2022-03-22T00:00:00+05:30",
          "2022-03-23T00:00:00+05:30",
          "2022-03-24T00:00:00+05:30",
          "2022-03-25T00:00:00+05:30",
          "2022-03-26T00:00:00+05:30",
          "2022-03-27T00:00:00+05:30",
          "2022-03-28T00:00:00+05:30",
          "2022-03-29T00:00:00+05:30",
          "2022-03-30T00:00:00+05:30",
          "2022-03-31T00:00:00+05:30",
          "2022-04-01T00:00:00+05:30",
          "2022-04-02T00:00:00+05:30",
          "2022-04-03T00:00:00+05:30",
          "2022-04-04T00:00:00+05:30",
          "2022-04-05T00:00:00+05:30",
          "2022-04-06T00:00:00+05:30",
          "2022-04-07T00:00:00+05:30",
          "2022-04-08T00:00:00+05:30",
          "2022-04-09T00:00:00+05:30",
          "2022-04-10T00:00:00+05:30",
          "2022-04-11T00:00:00+05:30",
          "2022-04-12T00:00:00+05:30",
          "2022-04-13T00:00:00+05:30",
          "2022-04-14T00:00:00+05:30",
          "2022-04-15T00:00:00+05:30",
          "2022-04-16T00:00:00+05:30",
          "2022-04-17T00:00:00+05:30",
          "2022-04-18T00:00:00+05:30",
          "2022-04-19T00:00:00+05:30",
          "2022-04-20T00:00:00+05:30",
          "2022-04-21T00:00:00+05:30",
          "2022-04-22T00:00:00+05:30",
          "2022-04-23T00:00:00+05:30",
          "2022-04-24T00:00:00+05:30",
          "2022-04-25T00:00:00+05:30",
          "2022-04-26T00:00:00+05:30",
          "2022-04-27T00:00:00+05:30",
          "2022-04-28T00:00:00+05:30",
          "2022-04-29T00:00:00+05:30",
          "2022-04-30T00:00:00+05:30",
          "2022-05-01T00:00:00+05:30",
          "2022-05-02T00:00:00+05:30",
          "2022-05-03T00:00:00+05:30",
          "2022-05-04T00:00:00+05:30",
          "2022-05-05T00:00:00+05:30",
          "2022-05-06T00:00:00+05:30",
          "2022-05-07T00:00:00+05:30",
          "2022-05-08T00:00:00+05:30",
          "2022-05-09T00:00:00+05:30",
          "2022-05-10T00:00:00+05:30",
          "2022-05-11T00:00:00+05:30",
          "2022-05-12T00:00:00+05:30",
          "2022-05-13T00:00:00+05:30",
          "2022-05-14T00:00:00+05:30",
          "2022-05-15T00:00:00+05:30",
          "2022-05-16T00:00:00+05:30",
          "2022-05-17T00:00:00+05:30",
          "2022-05-18T00:00:00+05:30",
          "2022-05-19T00:00:00+05:30",
          "2022-05-20T00:00:00+05:30",
          "2022-05-21T00:00:00+05:30",
          "2022-05-22T00:00:00+05:30",
          "2022-05-23T00:00:00+05:30",
          "2022-05-24T00:00:00+05:30",
          "2022-05-25T00:00:00+05:30",
          "2022-05-26T00:00:00+05:30",
          "2022-05-27T00:00:00+05:30",
          "2022-05-28T00:00:00+05:30",
          "2022-05-29T00:00:00+05:30",
          "2022-05-30T00:00:00+05:30",
          "2022-05-31T00:00:00+05:30",
          "2022-06-01T00:00:00+05:30",
          "2022-06-02T00:00:00+05:30",
          "2022-06-03T00:00:00+05:30",
          "2022-06-04T00:00:00+05:30"
         ],
         "xaxis": "x",
         "y": [
          29.241666666666664,
          30.51375,
          25.427083333333332,
          24.0825,
          26.10166666666667,
          22.629583333333333,
          19.08375,
          17.257083333333334,
          16.915416666666665,
          16.972916666666666,
          19.118750000000002,
          20.935416666666665,
          18.848333333333333,
          17.03125,
          17.61916666666667,
          18.080000000000002,
          19.375,
          20.482916666666668,
          20.33875,
          19.468333333333334,
          19.570833333333333,
          19.412916666666664,
          16.6925,
          16.03,
          16.00375,
          17.11,
          17.3225,
          18.435,
          19.442083333333333,
          19.76318181818182,
          21.881666666666664,
          23.207083333333333,
          23.500833333333333,
          22.894166666666667,
          23.400833333333335,
          25.745833333333334,
          26.105,
          26.101249999999997,
          25.949166666666667,
          25.27625,
          25.94,
          24.355,
          25.301666666666666,
          23.950000000000003,
          25.3475,
          20.607083333333332,
          16.774615384615384,
          20.13478260869565,
          20.437916666666666,
          21.128947368421052,
          22.2775,
          24.28142857142857,
          26.237916666666667,
          22.644615384615385,
          23.197499999999998,
          19.77611111111111,
          18.860666666666667,
          19.401904761904763,
          19.55636363636364,
          18.378333333333334,
          19.795833333333334,
          21.72458333333333,
          23.205652173913045,
          20.03,
          16.362083333333334,
          17.183333333333334,
          18.465416666666666,
          17.2175,
          17.62333333333333,
          17.97375,
          17.655652173913044,
          16.166521739130435,
          12.56,
          12.56,
          12.56,
          12.56,
          24.53333333333333,
          20.642500000000002,
          20.040833333333335,
          21.200833333333332,
          22.161666666666665,
          24.34875,
          22.851249999999997,
          23.911666666666665,
          21.084166666666665,
          19.775833333333335,
          21.535,
          23.734166666666667,
          23.074583333333333,
          21.082916666666666,
          24.395833333333332,
          26.09,
          27.627916666666668,
          32.086666666666666,
          36.55083333333334,
          38.592083333333335,
          37.63708333333333,
          40.35666666666666,
          43.77708333333334,
          46.58833333333333,
          47.024166666666666,
          46.56375,
          47.3795652173913,
          37.43125,
          24.105833333333333,
          29.08875,
          42.16458333333333,
          45.20583333333334,
          43.48875,
          42.955000000000005,
          41.1025,
          42.566250000000004,
          49.94125,
          53.736250000000005,
          55.47208333333333,
          53.90083333333333,
          54.40416666666667,
          60.05076923076923,
          57.17090909090909,
          46.46888888888889,
          57.5925,
          61.01,
          66.02181818181818,
          76.08583333333333,
          75.04875,
          80.26416666666667,
          84.14416666666666,
          81.97083333333333,
          80.74083333333333,
          75.60958333333333,
          68.53041666666667,
          60.975,
          67.5975,
          67.13000000000001,
          66.04041666666667,
          65.34958333333333,
          64.66375000000001,
          61.740833333333335,
          55.35041666666667,
          49.97416666666666,
          52.76916666666667,
          59.38125,
          63.85791666666666,
          68.59916666666666,
          69.87333333333333,
          68.12041666666667,
          66.08958333333334,
          63.19625,
          73.30375,
          72.31,
          64.60739130434783,
          66.71818181818182,
          63.28208333333333,
          56.842727272727274,
          54.49541666666667,
          52.99166666666667,
          54.593333333333334,
          54.609166666666674,
          55.822916666666664,
          58.947916666666664,
          65.33333333333333,
          67.43958333333333,
          76.16909090909091,
          73.73208333333334,
          70.44916666666667,
          66.67791666666666,
          64.10000000000001,
          70.51416666666667,
          87.24374999999999,
          93.76,
          94.53208333333333,
          81.60181818181819,
          88.56833333333333,
          94.43583333333333,
          69.05333333333333,
          71.03041666666667,
          52.27210526315789,
          54.04869565217392,
          53.93826086956521,
          62.00125,
          67.04958333333333,
          73.77208333333333,
          74.91666666666667,
          74.79,
          66.22086956521738,
          66.22086956521738,
          66.22086956521738,
          66.22086956521738,
          66.22086956521738,
          45.79526315789474,
          46.662083333333335,
          49.2875,
          53.35874999999999,
          52.82416666666666,
          53.79708333333334,
          57.29416666666666,
          61.6875,
          68.51916666666666,
          68.48363636363636,
          62.59636363636364,
          57.29727272727273,
          51.791999999999994,
          58.45,
          59.88625,
          56.30583333333333,
          54.09909090909091,
          45.798095238095236,
          56.13454545454545,
          59.74478260869566,
          73.23791666666666,
          72.13050000000001,
          61.55130434782609,
          56.77125,
          42.25391304347826,
          47.16,
          52.090833333333336,
          56.00125,
          56.490833333333335,
          52.18125,
          52.1575,
          48.665416666666665,
          48.94166666666666,
          54.125,
          53.0225,
          54.35583333333333,
          54.801,
          52.875416666666666,
          51.34583333333333,
          51.12291666666667,
          48.834583333333335,
          49.34833333333333,
          51.2225,
          50.90041666666667,
          55.458333333333336,
          51.08833333333334,
          44.37958333333333,
          43.159166666666664,
          42.1175,
          43.97291666666666,
          47,
          46.05625,
          46.11666666666667,
          43.42166666666666,
          48.22125,
          52.56458333333333,
          53.557500000000005,
          49.97208333333333,
          51.66916666666666,
          53.32416666666666,
          51.92291666666667,
          57.46458333333334,
          61.38625,
          61.82666666666666,
          56.85833333333333,
          58.02875,
          64.57458333333334,
          53.17666666666667,
          51.036249999999995,
          53.39208333333334,
          51.282916666666665,
          56.890416666666674,
          57.20916666666667,
          50.69416666666667,
          47.8175,
          48.87375,
          55.83541666666667,
          54.57333333333333,
          53.79750000000001,
          56.961666666666666,
          68.30714285714285,
          68.30714285714285,
          68.30714285714285,
          68.30714285714285,
          68.30714285714285,
          34.14454545454546,
          35.85636363636364,
          37.27058823529412,
          38.97529411764706,
          53.435,
          53.435,
          53.435,
          53.435,
          53.435,
          53.435,
          53.435,
          53.435,
          53.435,
          44.04,
          43.649166666666666,
          46.504999999999995,
          41.005833333333335,
          43.502916666666664,
          44.00958333333333,
          46.635,
          46.52791666666667,
          50.13958333333333,
          50.4,
          47.04083333333333,
          47.39166666666667,
          42.288333333333334,
          40.02458333333333,
          46.92791666666667,
          38.714285714285715,
          37.995,
          46.427083333333336,
          47.34291666666667,
          46.36666666666667,
          42.87291666666667,
          37.80166666666667,
          35.81166666666667,
          36.18333333333333,
          37.48375,
          42.90541666666667,
          42.51625,
          44.5375,
          45.61041666666667,
          46.12583333333333,
          45.24666666666667,
          43.83541666666667,
          41.968333333333334,
          38.80625,
          32.83083333333334,
          32.42666666666667,
          37.844166666666666,
          40.17208333333333,
          37.467083333333335,
          36.99875,
          35.441250000000004,
          36.18416666666666,
          39.86958333333333,
          42.53666666666667,
          41.13666666666666,
          40.58833333333333,
          38.80952380952381
         ],
         "yaxis": "y"
        },
        {
         "hovertemplate": "variable=y_pred<br>Timestamp=%{x}<br>PM2.5=%{y}<extra></extra>",
         "legendgroup": "y_pred",
         "line": {
          "color": "#EF553B",
          "dash": "solid"
         },
         "marker": {
          "symbol": "circle"
         },
         "mode": "lines",
         "name": "y_pred",
         "orientation": "v",
         "showlegend": true,
         "type": "scatter",
         "x": [
          "2021-07-06T00:00:00+05:30",
          "2021-07-07T00:00:00+05:30",
          "2021-07-08T00:00:00+05:30",
          "2021-07-09T00:00:00+05:30",
          "2021-07-10T00:00:00+05:30",
          "2021-07-11T00:00:00+05:30",
          "2021-07-12T00:00:00+05:30",
          "2021-07-13T00:00:00+05:30",
          "2021-07-14T00:00:00+05:30",
          "2021-07-15T00:00:00+05:30",
          "2021-07-16T00:00:00+05:30",
          "2021-07-17T00:00:00+05:30",
          "2021-07-18T00:00:00+05:30",
          "2021-07-19T00:00:00+05:30",
          "2021-07-20T00:00:00+05:30",
          "2021-07-21T00:00:00+05:30",
          "2021-07-22T00:00:00+05:30",
          "2021-07-23T00:00:00+05:30",
          "2021-07-24T00:00:00+05:30",
          "2021-07-25T00:00:00+05:30",
          "2021-07-26T00:00:00+05:30",
          "2021-07-27T00:00:00+05:30",
          "2021-07-28T00:00:00+05:30",
          "2021-07-29T00:00:00+05:30",
          "2021-07-30T00:00:00+05:30",
          "2021-07-31T00:00:00+05:30",
          "2021-08-01T00:00:00+05:30",
          "2021-08-02T00:00:00+05:30",
          "2021-08-03T00:00:00+05:30",
          "2021-08-04T00:00:00+05:30",
          "2021-08-05T00:00:00+05:30",
          "2021-08-06T00:00:00+05:30",
          "2021-08-07T00:00:00+05:30",
          "2021-08-08T00:00:00+05:30",
          "2021-08-09T00:00:00+05:30",
          "2021-08-10T00:00:00+05:30",
          "2021-08-11T00:00:00+05:30",
          "2021-08-12T00:00:00+05:30",
          "2021-08-13T00:00:00+05:30",
          "2021-08-14T00:00:00+05:30",
          "2021-08-15T00:00:00+05:30",
          "2021-08-16T00:00:00+05:30",
          "2021-08-17T00:00:00+05:30",
          "2021-08-18T00:00:00+05:30",
          "2021-08-19T00:00:00+05:30",
          "2021-08-20T00:00:00+05:30",
          "2021-08-21T00:00:00+05:30",
          "2021-08-22T00:00:00+05:30",
          "2021-08-23T00:00:00+05:30",
          "2021-08-24T00:00:00+05:30",
          "2021-08-25T00:00:00+05:30",
          "2021-08-26T00:00:00+05:30",
          "2021-08-27T00:00:00+05:30",
          "2021-08-28T00:00:00+05:30",
          "2021-08-29T00:00:00+05:30",
          "2021-08-30T00:00:00+05:30",
          "2021-08-31T00:00:00+05:30",
          "2021-09-01T00:00:00+05:30",
          "2021-09-02T00:00:00+05:30",
          "2021-09-03T00:00:00+05:30",
          "2021-09-04T00:00:00+05:30",
          "2021-09-05T00:00:00+05:30",
          "2021-09-06T00:00:00+05:30",
          "2021-09-07T00:00:00+05:30",
          "2021-09-08T00:00:00+05:30",
          "2021-09-09T00:00:00+05:30",
          "2021-09-10T00:00:00+05:30",
          "2021-09-11T00:00:00+05:30",
          "2021-09-12T00:00:00+05:30",
          "2021-09-13T00:00:00+05:30",
          "2021-09-14T00:00:00+05:30",
          "2021-09-15T00:00:00+05:30",
          "2021-09-16T00:00:00+05:30",
          "2021-09-17T00:00:00+05:30",
          "2021-09-18T00:00:00+05:30",
          "2021-09-19T00:00:00+05:30",
          "2021-09-20T00:00:00+05:30",
          "2021-09-21T00:00:00+05:30",
          "2021-09-22T00:00:00+05:30",
          "2021-09-23T00:00:00+05:30",
          "2021-09-24T00:00:00+05:30",
          "2021-09-25T00:00:00+05:30",
          "2021-09-26T00:00:00+05:30",
          "2021-09-27T00:00:00+05:30",
          "2021-09-28T00:00:00+05:30",
          "2021-09-29T00:00:00+05:30",
          "2021-09-30T00:00:00+05:30",
          "2021-10-01T00:00:00+05:30",
          "2021-10-02T00:00:00+05:30",
          "2021-10-03T00:00:00+05:30",
          "2021-10-04T00:00:00+05:30",
          "2021-10-05T00:00:00+05:30",
          "2021-10-06T00:00:00+05:30",
          "2021-10-07T00:00:00+05:30",
          "2021-10-08T00:00:00+05:30",
          "2021-10-09T00:00:00+05:30",
          "2021-10-10T00:00:00+05:30",
          "2021-10-11T00:00:00+05:30",
          "2021-10-12T00:00:00+05:30",
          "2021-10-13T00:00:00+05:30",
          "2021-10-14T00:00:00+05:30",
          "2021-10-15T00:00:00+05:30",
          "2021-10-16T00:00:00+05:30",
          "2021-10-17T00:00:00+05:30",
          "2021-10-18T00:00:00+05:30",
          "2021-10-19T00:00:00+05:30",
          "2021-10-20T00:00:00+05:30",
          "2021-10-21T00:00:00+05:30",
          "2021-10-22T00:00:00+05:30",
          "2021-10-23T00:00:00+05:30",
          "2021-10-24T00:00:00+05:30",
          "2021-10-25T00:00:00+05:30",
          "2021-10-26T00:00:00+05:30",
          "2021-10-27T00:00:00+05:30",
          "2021-10-28T00:00:00+05:30",
          "2021-10-29T00:00:00+05:30",
          "2021-10-30T00:00:00+05:30",
          "2021-10-31T00:00:00+05:30",
          "2021-11-01T00:00:00+05:30",
          "2021-11-02T00:00:00+05:30",
          "2021-11-03T00:00:00+05:30",
          "2021-11-04T00:00:00+05:30",
          "2021-11-05T00:00:00+05:30",
          "2021-11-06T00:00:00+05:30",
          "2021-11-07T00:00:00+05:30",
          "2021-11-08T00:00:00+05:30",
          "2021-11-09T00:00:00+05:30",
          "2021-11-10T00:00:00+05:30",
          "2021-11-11T00:00:00+05:30",
          "2021-11-12T00:00:00+05:30",
          "2021-11-13T00:00:00+05:30",
          "2021-11-14T00:00:00+05:30",
          "2021-11-15T00:00:00+05:30",
          "2021-11-16T00:00:00+05:30",
          "2021-11-17T00:00:00+05:30",
          "2021-11-18T00:00:00+05:30",
          "2021-11-19T00:00:00+05:30",
          "2021-11-20T00:00:00+05:30",
          "2021-11-21T00:00:00+05:30",
          "2021-11-22T00:00:00+05:30",
          "2021-11-23T00:00:00+05:30",
          "2021-11-24T00:00:00+05:30",
          "2021-11-25T00:00:00+05:30",
          "2021-11-26T00:00:00+05:30",
          "2021-11-27T00:00:00+05:30",
          "2021-11-28T00:00:00+05:30",
          "2021-11-29T00:00:00+05:30",
          "2021-11-30T00:00:00+05:30",
          "2021-12-01T00:00:00+05:30",
          "2021-12-02T00:00:00+05:30",
          "2021-12-03T00:00:00+05:30",
          "2021-12-04T00:00:00+05:30",
          "2021-12-05T00:00:00+05:30",
          "2021-12-06T00:00:00+05:30",
          "2021-12-07T00:00:00+05:30",
          "2021-12-08T00:00:00+05:30",
          "2021-12-09T00:00:00+05:30",
          "2021-12-10T00:00:00+05:30",
          "2021-12-11T00:00:00+05:30",
          "2021-12-12T00:00:00+05:30",
          "2021-12-13T00:00:00+05:30",
          "2021-12-14T00:00:00+05:30",
          "2021-12-15T00:00:00+05:30",
          "2021-12-16T00:00:00+05:30",
          "2021-12-17T00:00:00+05:30",
          "2021-12-18T00:00:00+05:30",
          "2021-12-19T00:00:00+05:30",
          "2021-12-20T00:00:00+05:30",
          "2021-12-21T00:00:00+05:30",
          "2021-12-22T00:00:00+05:30",
          "2021-12-23T00:00:00+05:30",
          "2021-12-24T00:00:00+05:30",
          "2021-12-25T00:00:00+05:30",
          "2021-12-26T00:00:00+05:30",
          "2021-12-27T00:00:00+05:30",
          "2021-12-28T00:00:00+05:30",
          "2021-12-29T00:00:00+05:30",
          "2021-12-30T00:00:00+05:30",
          "2021-12-31T00:00:00+05:30",
          "2022-01-01T00:00:00+05:30",
          "2022-01-02T00:00:00+05:30",
          "2022-01-03T00:00:00+05:30",
          "2022-01-04T00:00:00+05:30",
          "2022-01-05T00:00:00+05:30",
          "2022-01-06T00:00:00+05:30",
          "2022-01-07T00:00:00+05:30",
          "2022-01-08T00:00:00+05:30",
          "2022-01-09T00:00:00+05:30",
          "2022-01-10T00:00:00+05:30",
          "2022-01-11T00:00:00+05:30",
          "2022-01-12T00:00:00+05:30",
          "2022-01-13T00:00:00+05:30",
          "2022-01-14T00:00:00+05:30",
          "2022-01-15T00:00:00+05:30",
          "2022-01-16T00:00:00+05:30",
          "2022-01-17T00:00:00+05:30",
          "2022-01-18T00:00:00+05:30",
          "2022-01-19T00:00:00+05:30",
          "2022-01-20T00:00:00+05:30",
          "2022-01-21T00:00:00+05:30",
          "2022-01-22T00:00:00+05:30",
          "2022-01-23T00:00:00+05:30",
          "2022-01-24T00:00:00+05:30",
          "2022-01-25T00:00:00+05:30",
          "2022-01-26T00:00:00+05:30",
          "2022-01-27T00:00:00+05:30",
          "2022-01-28T00:00:00+05:30",
          "2022-01-29T00:00:00+05:30",
          "2022-01-30T00:00:00+05:30",
          "2022-01-31T00:00:00+05:30",
          "2022-02-01T00:00:00+05:30",
          "2022-02-02T00:00:00+05:30",
          "2022-02-03T00:00:00+05:30",
          "2022-02-04T00:00:00+05:30",
          "2022-02-05T00:00:00+05:30",
          "2022-02-06T00:00:00+05:30",
          "2022-02-07T00:00:00+05:30",
          "2022-02-08T00:00:00+05:30",
          "2022-02-09T00:00:00+05:30",
          "2022-02-10T00:00:00+05:30",
          "2022-02-11T00:00:00+05:30",
          "2022-02-12T00:00:00+05:30",
          "2022-02-13T00:00:00+05:30",
          "2022-02-14T00:00:00+05:30",
          "2022-02-15T00:00:00+05:30",
          "2022-02-16T00:00:00+05:30",
          "2022-02-17T00:00:00+05:30",
          "2022-02-18T00:00:00+05:30",
          "2022-02-19T00:00:00+05:30",
          "2022-02-20T00:00:00+05:30",
          "2022-02-21T00:00:00+05:30",
          "2022-02-22T00:00:00+05:30",
          "2022-02-23T00:00:00+05:30",
          "2022-02-24T00:00:00+05:30",
          "2022-02-25T00:00:00+05:30",
          "2022-02-26T00:00:00+05:30",
          "2022-02-27T00:00:00+05:30",
          "2022-02-28T00:00:00+05:30",
          "2022-03-01T00:00:00+05:30",
          "2022-03-02T00:00:00+05:30",
          "2022-03-03T00:00:00+05:30",
          "2022-03-04T00:00:00+05:30",
          "2022-03-05T00:00:00+05:30",
          "2022-03-06T00:00:00+05:30",
          "2022-03-07T00:00:00+05:30",
          "2022-03-08T00:00:00+05:30",
          "2022-03-09T00:00:00+05:30",
          "2022-03-10T00:00:00+05:30",
          "2022-03-11T00:00:00+05:30",
          "2022-03-12T00:00:00+05:30",
          "2022-03-13T00:00:00+05:30",
          "2022-03-14T00:00:00+05:30",
          "2022-03-15T00:00:00+05:30",
          "2022-03-16T00:00:00+05:30",
          "2022-03-17T00:00:00+05:30",
          "2022-03-18T00:00:00+05:30",
          "2022-03-19T00:00:00+05:30",
          "2022-03-20T00:00:00+05:30",
          "2022-03-21T00:00:00+05:30",
          "2022-03-22T00:00:00+05:30",
          "2022-03-23T00:00:00+05:30",
          "2022-03-24T00:00:00+05:30",
          "2022-03-25T00:00:00+05:30",
          "2022-03-26T00:00:00+05:30",
          "2022-03-27T00:00:00+05:30",
          "2022-03-28T00:00:00+05:30",
          "2022-03-29T00:00:00+05:30",
          "2022-03-30T00:00:00+05:30",
          "2022-03-31T00:00:00+05:30",
          "2022-04-01T00:00:00+05:30",
          "2022-04-02T00:00:00+05:30",
          "2022-04-03T00:00:00+05:30",
          "2022-04-04T00:00:00+05:30",
          "2022-04-05T00:00:00+05:30",
          "2022-04-06T00:00:00+05:30",
          "2022-04-07T00:00:00+05:30",
          "2022-04-08T00:00:00+05:30",
          "2022-04-09T00:00:00+05:30",
          "2022-04-10T00:00:00+05:30",
          "2022-04-11T00:00:00+05:30",
          "2022-04-12T00:00:00+05:30",
          "2022-04-13T00:00:00+05:30",
          "2022-04-14T00:00:00+05:30",
          "2022-04-15T00:00:00+05:30",
          "2022-04-16T00:00:00+05:30",
          "2022-04-17T00:00:00+05:30",
          "2022-04-18T00:00:00+05:30",
          "2022-04-19T00:00:00+05:30",
          "2022-04-20T00:00:00+05:30",
          "2022-04-21T00:00:00+05:30",
          "2022-04-22T00:00:00+05:30",
          "2022-04-23T00:00:00+05:30",
          "2022-04-24T00:00:00+05:30",
          "2022-04-25T00:00:00+05:30",
          "2022-04-26T00:00:00+05:30",
          "2022-04-27T00:00:00+05:30",
          "2022-04-28T00:00:00+05:30",
          "2022-04-29T00:00:00+05:30",
          "2022-04-30T00:00:00+05:30",
          "2022-05-01T00:00:00+05:30",
          "2022-05-02T00:00:00+05:30",
          "2022-05-03T00:00:00+05:30",
          "2022-05-04T00:00:00+05:30",
          "2022-05-05T00:00:00+05:30",
          "2022-05-06T00:00:00+05:30",
          "2022-05-07T00:00:00+05:30",
          "2022-05-08T00:00:00+05:30",
          "2022-05-09T00:00:00+05:30",
          "2022-05-10T00:00:00+05:30",
          "2022-05-11T00:00:00+05:30",
          "2022-05-12T00:00:00+05:30",
          "2022-05-13T00:00:00+05:30",
          "2022-05-14T00:00:00+05:30",
          "2022-05-15T00:00:00+05:30",
          "2022-05-16T00:00:00+05:30",
          "2022-05-17T00:00:00+05:30",
          "2022-05-18T00:00:00+05:30",
          "2022-05-19T00:00:00+05:30",
          "2022-05-20T00:00:00+05:30",
          "2022-05-21T00:00:00+05:30",
          "2022-05-22T00:00:00+05:30",
          "2022-05-23T00:00:00+05:30",
          "2022-05-24T00:00:00+05:30",
          "2022-05-25T00:00:00+05:30",
          "2022-05-26T00:00:00+05:30",
          "2022-05-27T00:00:00+05:30",
          "2022-05-28T00:00:00+05:30",
          "2022-05-29T00:00:00+05:30",
          "2022-05-30T00:00:00+05:30",
          "2022-05-31T00:00:00+05:30",
          "2022-06-01T00:00:00+05:30",
          "2022-06-02T00:00:00+05:30",
          "2022-06-03T00:00:00+05:30",
          "2022-06-04T00:00:00+05:30"
         ],
         "xaxis": "x",
         "y": [
          29.007101775299375,
          29.77760447004287,
          31.01307964181384,
          26.072797657870208,
          24.76690889949979,
          26.72796775387322,
          23.355804437015234,
          19.91201350620263,
          18.137914864524316,
          17.80608072077974,
          17.861925979117242,
          19.946006272147198,
          21.710392694984204,
          19.683371687646915,
          17.918580589024852,
          18.489578121736557,
          18.93714954000668,
          20.194881879955627,
          21.270914792415173,
          21.130896970786363,
          20.285529255807806,
          20.385079498931177,
          20.231707376395573,
          17.589579175775658,
          16.946144677539227,
          16.920650103080803,
          17.995064312400125,
          18.201448962777853,
          19.28193330887299,
          20.260034681349378,
          20.571892556795365,
          22.629411402842656,
          23.916685075100578,
          24.2019815035639,
          23.612773560524754,
          24.104859315150858,
          26.382374633436793,
          26.731205160153653,
          26.72756307808816,
          26.579856416543322,
          25.92630502368053,
          26.570953549272126,
          25.03156686292534,
          25.950990246568846,
          24.638221999852504,
          25.995504582924827,
          21.39150817636137,
          17.66933143433791,
          20.93279937670258,
          21.2272098076293,
          21.898353947779192,
          23.0138533986443,
          24.960112681450024,
          26.860296735585994,
          23.370403894183735,
          23.907377532044325,
          20.584449769034624,
          19.695350090884528,
          20.221012373504852,
          20.371026212577473,
          19.2268974021056,
          20.60360442286053,
          22.476848631877164,
          23.915295101751912,
          20.831032214061082,
          17.26867127822755,
          18.066287250569694,
          19.31147464118196,
          18.099470664944153,
          18.493624879587095,
          18.833957214817815,
          18.525013644827837,
          17.078737578242254,
          13.576004739606516,
          13.576004739606516,
          13.576004739606516,
          13.576004739606516,
          25.204768098928604,
          21.425905618090994,
          20.8415537844725,
          21.968171170063833,
          22.901353530399188,
          25.025496726149523,
          23.57109195466415,
          24.6009918276275,
          21.854861950248612,
          20.584179985177922,
          22.29272114967743,
          24.428599943194342,
          23.78799817545329,
          21.853647922893447,
          25.071225089860665,
          26.716636831891694,
          28.210295154527337,
          32.540730730394046,
          36.87642709146646,
          38.85893376244777,
          37.93141686310317,
          40.572735712152976,
          43.894719231664226,
          46.62506675342599,
          47.04835762459285,
          46.60119088210779,
          47.393528474644874,
          37.73150702528632,
          24.789570743462832,
          29.629088456927924,
          42.32862394350385,
          45.28235249861563,
          43.61468358840661,
          43.09629390775198,
          41.297105367400285,
          42.71873140029626,
          49.881492795758426,
          53.56727984603354,
          55.25315916657,
          53.72712678113001,
          54.21597512947568,
          59.70007911071928,
          56.903095919652095,
          46.509059695043746,
          57.31255423671164,
          60.6317050257275,
          65.49929252319227,
          75.27368428056435,
          74.26644625156406,
          79.33177305308948,
          83.10011396351568,
          80.98932506867214,
          79.79472215119166,
          74.81113985824723,
          67.93569827017365,
          60.59771225978294,
          67.02962918743694,
          66.57558295660596,
          65.5173557786888,
          64.84640332706866,
          64.18030698486919,
          61.341506352712855,
          55.13499383733413,
          49.91346218277772,
          52.62802734892237,
          59.04982738195001,
          63.39766401657405,
          68.00246977470762,
          69.23996832540385,
          67.53749729768016,
          65.56510752132522,
          62.75503886990773,
          72.57166406375639,
          71.60651231640175,
          64.12557018629076,
          66.1756161261413,
          62.83840208162893,
          56.58435855586019,
          54.304599126402586,
          52.844124218141395,
          54.39969793589036,
          54.41507561572243,
          55.593896177585776,
          58.628964565493476,
          64.83062097145154,
          66.87625706490134,
          75.35454586015977,
          72.98767077079228,
          69.79923026034898,
          66.13650972982195,
          63.632780647690645,
          69.86235968281746,
          86.11049712853506,
          92.43922173100022,
          93.18908596070594,
          80.63092947794492,
          87.39696144922287,
          93.09560585435838,
          68.44356638041687,
          70.36375298049981,
          52.14527043607804,
          53.87073390102626,
          53.7634772233875,
          61.59442871837182,
          66.49748053009046,
          73.0265196461575,
          74.13816402770183,
          74.01514258904531,
          65.69261558281602,
          65.69261558281602,
          65.69261558281602,
          65.69261558281602,
          65.69261558281602,
          45.85481964338884,
          46.696694367380616,
          49.24655648900814,
          53.200643584774284,
          52.68144455254954,
          53.62636251065148,
          57.02280637461271,
          61.289707852225895,
          67.92477202397718,
          67.89026421612436,
          62.17241610555266,
          57.025823048646764,
          51.67898169781288,
          58.14537700235352,
          59.54029443343589,
          56.06291541246378,
          53.91967887740042,
          45.85757022165718,
          55.8965568760987,
          59.40289820711027,
          72.50772528971781,
          71.43217798820034,
          61.15743165431117,
          56.5149382643695,
          42.41538291289964,
          47.18028193052057,
          51.96921517085387,
          55.76709741358904,
          56.242591461027914,
          52.057029816210665,
          52.03396329646257,
          48.64237554192198,
          48.91067558741302,
          53.94484235348926,
          52.874070226235425,
          54.16903273840937,
          54.60138834716145,
          52.73121967411123,
          51.245654867176675,
          51.0291533221726,
          48.80667391065405,
          49.30563915362607,
          51.12587083480058,
          50.81305645295357,
          55.23980486566321,
          50.995565232013085,
          44.47988041685283,
          43.29458504242861,
          42.28289557979271,
          44.08491685063977,
          47.0248864290597,
          46.10829577591157,
          46.166973764744455,
          43.54953078701285,
          48.210991155054025,
          52.42933153846068,
          53.39367393424522,
          49.91143880385245,
          51.559683276378856,
          53.16705549461477,
          51.80613082947697,
          57.18831877069996,
          60.99712725963159,
          61.42486956443405,
          56.59951550344585,
          57.73624978366356,
          64.09370636686756,
          53.023800266705535,
          50.94498075888128,
          53.23301764757864,
          51.18454882363346,
          56.630675538895055,
          56.94025251446163,
          50.61274193935166,
          47.81886031933636,
          48.84471343444916,
          55.606036451137406,
          54.38027349820775,
          53.62676718643654,
          56.699875098139344,
          67.71884986021094,
          67.71884986021094,
          67.71884986021094,
          67.71884986021094,
          67.71884986021094,
          34.5393876440698,
          36.20194292390404,
          37.57546880346095,
          39.23111646240806,
          53.27469925343924,
          53.27469925343924,
          53.27469925343924,
          53.27469925343924,
          53.27469925343924,
          53.27469925343924,
          53.27469925343924,
          53.27469925343924,
          53.27469925343924,
          44.15006965203352,
          43.770483765652536,
          46.54413159641512,
          41.20322058526768,
          43.62844256509845,
          44.120528319724556,
          46.670390441352076,
          46.566388764593114,
          50.0741184694443,
          50.327040835103276,
          47.06454465599503,
          47.405281667010804,
          42.448812651664994,
          40.250209111464656,
          46.9548775182453,
          38.97761938912157,
          38.279033362464865,
          46.468457224609956,
          47.35793460015944,
          46.40977923577707,
          43.01657277809627,
          38.09126379819965,
          36.15853224878003,
          36.51950304904851,
          37.782496174203175,
          43.04813748933051,
          42.67017030608973,
          44.63325253938844,
          45.675292685903415,
          46.17587663201565,
          45.32201072555095,
          43.95137384157184,
          42.13802164874325,
          39.06693711596571,
          33.26348168250114,
          32.87094617099841,
          38.132540728275195,
          40.3934643393739,
          37.766309142801,
          37.3114535603999,
          35.7987754758667,
          36.52031240061862,
          40.09966971942443,
          42.689999419557395,
          41.33028878177474,
          40.79773544864321
         ],
         "yaxis": "y"
        }
       ],
       "layout": {
        "autosize": true,
        "legend": {
         "title": {
          "text": "variable"
         },
         "tracegroupgap": 0
        },
        "margin": {
         "t": 60
        },
        "template": {
         "data": {
          "bar": [
           {
            "error_x": {
             "color": "#2a3f5f"
            },
            "error_y": {
             "color": "#2a3f5f"
            },
            "marker": {
             "line": {
              "color": "#E5ECF6",
              "width": 0.5
             },
             "pattern": {
              "fillmode": "overlay",
              "size": 10,
              "solidity": 0.2
             }
            },
            "type": "bar"
           }
          ],
          "barpolar": [
           {
            "marker": {
             "line": {
              "color": "#E5ECF6",
              "width": 0.5
             },
             "pattern": {
              "fillmode": "overlay",
              "size": 10,
              "solidity": 0.2
             }
            },
            "type": "barpolar"
           }
          ],
          "carpet": [
           {
            "aaxis": {
             "endlinecolor": "#2a3f5f",
             "gridcolor": "white",
             "linecolor": "white",
             "minorgridcolor": "white",
             "startlinecolor": "#2a3f5f"
            },
            "baxis": {
             "endlinecolor": "#2a3f5f",
             "gridcolor": "white",
             "linecolor": "white",
             "minorgridcolor": "white",
             "startlinecolor": "#2a3f5f"
            },
            "type": "carpet"
           }
          ],
          "choropleth": [
           {
            "colorbar": {
             "outlinewidth": 0,
             "ticks": ""
            },
            "type": "choropleth"
           }
          ],
          "contour": [
           {
            "colorbar": {
             "outlinewidth": 0,
             "ticks": ""
            },
            "colorscale": [
             [
              0,
              "#0d0887"
             ],
             [
              0.1111111111111111,
              "#46039f"
             ],
             [
              0.2222222222222222,
              "#7201a8"
             ],
             [
              0.3333333333333333,
              "#9c179e"
             ],
             [
              0.4444444444444444,
              "#bd3786"
             ],
             [
              0.5555555555555556,
              "#d8576b"
             ],
             [
              0.6666666666666666,
              "#ed7953"
             ],
             [
              0.7777777777777778,
              "#fb9f3a"
             ],
             [
              0.8888888888888888,
              "#fdca26"
             ],
             [
              1,
              "#f0f921"
             ]
            ],
            "type": "contour"
           }
          ],
          "contourcarpet": [
           {
            "colorbar": {
             "outlinewidth": 0,
             "ticks": ""
            },
            "type": "contourcarpet"
           }
          ],
          "heatmap": [
           {
            "colorbar": {
             "outlinewidth": 0,
             "ticks": ""
            },
            "colorscale": [
             [
              0,
              "#0d0887"
             ],
             [
              0.1111111111111111,
              "#46039f"
             ],
             [
              0.2222222222222222,
              "#7201a8"
             ],
             [
              0.3333333333333333,
              "#9c179e"
             ],
             [
              0.4444444444444444,
              "#bd3786"
             ],
             [
              0.5555555555555556,
              "#d8576b"
             ],
             [
              0.6666666666666666,
              "#ed7953"
             ],
             [
              0.7777777777777778,
              "#fb9f3a"
             ],
             [
              0.8888888888888888,
              "#fdca26"
             ],
             [
              1,
              "#f0f921"
             ]
            ],
            "type": "heatmap"
           }
          ],
          "heatmapgl": [
           {
            "colorbar": {
             "outlinewidth": 0,
             "ticks": ""
            },
            "colorscale": [
             [
              0,
              "#0d0887"
             ],
             [
              0.1111111111111111,
              "#46039f"
             ],
             [
              0.2222222222222222,
              "#7201a8"
             ],
             [
              0.3333333333333333,
              "#9c179e"
             ],
             [
              0.4444444444444444,
              "#bd3786"
             ],
             [
              0.5555555555555556,
              "#d8576b"
             ],
             [
              0.6666666666666666,
              "#ed7953"
             ],
             [
              0.7777777777777778,
              "#fb9f3a"
             ],
             [
              0.8888888888888888,
              "#fdca26"
             ],
             [
              1,
              "#f0f921"
             ]
            ],
            "type": "heatmapgl"
           }
          ],
          "histogram": [
           {
            "marker": {
             "pattern": {
              "fillmode": "overlay",
              "size": 10,
              "solidity": 0.2
             }
            },
            "type": "histogram"
           }
          ],
          "histogram2d": [
           {
            "colorbar": {
             "outlinewidth": 0,
             "ticks": ""
            },
            "colorscale": [
             [
              0,
              "#0d0887"
             ],
             [
              0.1111111111111111,
              "#46039f"
             ],
             [
              0.2222222222222222,
              "#7201a8"
             ],
             [
              0.3333333333333333,
              "#9c179e"
             ],
             [
              0.4444444444444444,
              "#bd3786"
             ],
             [
              0.5555555555555556,
              "#d8576b"
             ],
             [
              0.6666666666666666,
              "#ed7953"
             ],
             [
              0.7777777777777778,
              "#fb9f3a"
             ],
             [
              0.8888888888888888,
              "#fdca26"
             ],
             [
              1,
              "#f0f921"
             ]
            ],
            "type": "histogram2d"
           }
          ],
          "histogram2dcontour": [
           {
            "colorbar": {
             "outlinewidth": 0,
             "ticks": ""
            },
            "colorscale": [
             [
              0,
              "#0d0887"
             ],
             [
              0.1111111111111111,
              "#46039f"
             ],
             [
              0.2222222222222222,
              "#7201a8"
             ],
             [
              0.3333333333333333,
              "#9c179e"
             ],
             [
              0.4444444444444444,
              "#bd3786"
             ],
             [
              0.5555555555555556,
              "#d8576b"
             ],
             [
              0.6666666666666666,
              "#ed7953"
             ],
             [
              0.7777777777777778,
              "#fb9f3a"
             ],
             [
              0.8888888888888888,
              "#fdca26"
             ],
             [
              1,
              "#f0f921"
             ]
            ],
            "type": "histogram2dcontour"
           }
          ],
          "mesh3d": [
           {
            "colorbar": {
             "outlinewidth": 0,
             "ticks": ""
            },
            "type": "mesh3d"
           }
          ],
          "parcoords": [
           {
            "line": {
             "colorbar": {
              "outlinewidth": 0,
              "ticks": ""
             }
            },
            "type": "parcoords"
           }
          ],
          "pie": [
           {
            "automargin": true,
            "type": "pie"
           }
          ],
          "scatter": [
           {
            "fillpattern": {
             "fillmode": "overlay",
             "size": 10,
             "solidity": 0.2
            },
            "type": "scatter"
           }
          ],
          "scatter3d": [
           {
            "line": {
             "colorbar": {
              "outlinewidth": 0,
              "ticks": ""
             }
            },
            "marker": {
             "colorbar": {
              "outlinewidth": 0,
              "ticks": ""
             }
            },
            "type": "scatter3d"
           }
          ],
          "scattercarpet": [
           {
            "marker": {
             "colorbar": {
              "outlinewidth": 0,
              "ticks": ""
             }
            },
            "type": "scattercarpet"
           }
          ],
          "scattergeo": [
           {
            "marker": {
             "colorbar": {
              "outlinewidth": 0,
              "ticks": ""
             }
            },
            "type": "scattergeo"
           }
          ],
          "scattergl": [
           {
            "marker": {
             "colorbar": {
              "outlinewidth": 0,
              "ticks": ""
             }
            },
            "type": "scattergl"
           }
          ],
          "scattermapbox": [
           {
            "marker": {
             "colorbar": {
              "outlinewidth": 0,
              "ticks": ""
             }
            },
            "type": "scattermapbox"
           }
          ],
          "scatterpolar": [
           {
            "marker": {
             "colorbar": {
              "outlinewidth": 0,
              "ticks": ""
             }
            },
            "type": "scatterpolar"
           }
          ],
          "scatterpolargl": [
           {
            "marker": {
             "colorbar": {
              "outlinewidth": 0,
              "ticks": ""
             }
            },
            "type": "scatterpolargl"
           }
          ],
          "scatterternary": [
           {
            "marker": {
             "colorbar": {
              "outlinewidth": 0,
              "ticks": ""
             }
            },
            "type": "scatterternary"
           }
          ],
          "surface": [
           {
            "colorbar": {
             "outlinewidth": 0,
             "ticks": ""
            },
            "colorscale": [
             [
              0,
              "#0d0887"
             ],
             [
              0.1111111111111111,
              "#46039f"
             ],
             [
              0.2222222222222222,
              "#7201a8"
             ],
             [
              0.3333333333333333,
              "#9c179e"
             ],
             [
              0.4444444444444444,
              "#bd3786"
             ],
             [
              0.5555555555555556,
              "#d8576b"
             ],
             [
              0.6666666666666666,
              "#ed7953"
             ],
             [
              0.7777777777777778,
              "#fb9f3a"
             ],
             [
              0.8888888888888888,
              "#fdca26"
             ],
             [
              1,
              "#f0f921"
             ]
            ],
            "type": "surface"
           }
          ],
          "table": [
           {
            "cells": {
             "fill": {
              "color": "#EBF0F8"
             },
             "line": {
              "color": "white"
             }
            },
            "header": {
             "fill": {
              "color": "#C8D4E3"
             },
             "line": {
              "color": "white"
             }
            },
            "type": "table"
           }
          ]
         },
         "layout": {
          "annotationdefaults": {
           "arrowcolor": "#2a3f5f",
           "arrowhead": 0,
           "arrowwidth": 1
          },
          "autotypenumbers": "strict",
          "coloraxis": {
           "colorbar": {
            "outlinewidth": 0,
            "ticks": ""
           }
          },
          "colorscale": {
           "diverging": [
            [
             0,
             "#8e0152"
            ],
            [
             0.1,
             "#c51b7d"
            ],
            [
             0.2,
             "#de77ae"
            ],
            [
             0.3,
             "#f1b6da"
            ],
            [
             0.4,
             "#fde0ef"
            ],
            [
             0.5,
             "#f7f7f7"
            ],
            [
             0.6,
             "#e6f5d0"
            ],
            [
             0.7,
             "#b8e186"
            ],
            [
             0.8,
             "#7fbc41"
            ],
            [
             0.9,
             "#4d9221"
            ],
            [
             1,
             "#276419"
            ]
           ],
           "sequential": [
            [
             0,
             "#0d0887"
            ],
            [
             0.1111111111111111,
             "#46039f"
            ],
            [
             0.2222222222222222,
             "#7201a8"
            ],
            [
             0.3333333333333333,
             "#9c179e"
            ],
            [
             0.4444444444444444,
             "#bd3786"
            ],
            [
             0.5555555555555556,
             "#d8576b"
            ],
            [
             0.6666666666666666,
             "#ed7953"
            ],
            [
             0.7777777777777778,
             "#fb9f3a"
            ],
            [
             0.8888888888888888,
             "#fdca26"
            ],
            [
             1,
             "#f0f921"
            ]
           ],
           "sequentialminus": [
            [
             0,
             "#0d0887"
            ],
            [
             0.1111111111111111,
             "#46039f"
            ],
            [
             0.2222222222222222,
             "#7201a8"
            ],
            [
             0.3333333333333333,
             "#9c179e"
            ],
            [
             0.4444444444444444,
             "#bd3786"
            ],
            [
             0.5555555555555556,
             "#d8576b"
            ],
            [
             0.6666666666666666,
             "#ed7953"
            ],
            [
             0.7777777777777778,
             "#fb9f3a"
            ],
            [
             0.8888888888888888,
             "#fdca26"
            ],
            [
             1,
             "#f0f921"
            ]
           ]
          },
          "colorway": [
           "#636efa",
           "#EF553B",
           "#00cc96",
           "#ab63fa",
           "#FFA15A",
           "#19d3f3",
           "#FF6692",
           "#B6E880",
           "#FF97FF",
           "#FECB52"
          ],
          "font": {
           "color": "#2a3f5f"
          },
          "geo": {
           "bgcolor": "white",
           "lakecolor": "white",
           "landcolor": "#E5ECF6",
           "showlakes": true,
           "showland": true,
           "subunitcolor": "white"
          },
          "hoverlabel": {
           "align": "left"
          },
          "hovermode": "closest",
          "mapbox": {
           "style": "light"
          },
          "paper_bgcolor": "white",
          "plot_bgcolor": "#E5ECF6",
          "polar": {
           "angularaxis": {
            "gridcolor": "white",
            "linecolor": "white",
            "ticks": ""
           },
           "bgcolor": "#E5ECF6",
           "radialaxis": {
            "gridcolor": "white",
            "linecolor": "white",
            "ticks": ""
           }
          },
          "scene": {
           "xaxis": {
            "backgroundcolor": "#E5ECF6",
            "gridcolor": "white",
            "gridwidth": 2,
            "linecolor": "white",
            "showbackground": true,
            "ticks": "",
            "zerolinecolor": "white"
           },
           "yaxis": {
            "backgroundcolor": "#E5ECF6",
            "gridcolor": "white",
            "gridwidth": 2,
            "linecolor": "white",
            "showbackground": true,
            "ticks": "",
            "zerolinecolor": "white"
           },
           "zaxis": {
            "backgroundcolor": "#E5ECF6",
            "gridcolor": "white",
            "gridwidth": 2,
            "linecolor": "white",
            "showbackground": true,
            "ticks": "",
            "zerolinecolor": "white"
           }
          },
          "shapedefaults": {
           "line": {
            "color": "#2a3f5f"
           }
          },
          "ternary": {
           "aaxis": {
            "gridcolor": "white",
            "linecolor": "white",
            "ticks": ""
           },
           "baxis": {
            "gridcolor": "white",
            "linecolor": "white",
            "ticks": ""
           },
           "bgcolor": "#E5ECF6",
           "caxis": {
            "gridcolor": "white",
            "linecolor": "white",
            "ticks": ""
           }
          },
          "title": {
           "x": 0.05
          },
          "xaxis": {
           "automargin": true,
           "gridcolor": "white",
           "linecolor": "white",
           "ticks": "",
           "title": {
            "standoff": 15
           },
           "zerolinecolor": "white",
           "zerolinewidth": 2
          },
          "yaxis": {
           "automargin": true,
           "gridcolor": "white",
           "linecolor": "white",
           "ticks": "",
           "title": {
            "standoff": 15
           },
           "zerolinecolor": "white",
           "zerolinewidth": 2
          }
         }
        },
        "xaxis": {
         "anchor": "y",
         "autorange": true,
         "domain": [
          0,
          1
         ],
         "range": [
          "2021-07-06",
          "2022-06-04"
         ],
         "title": {
          "text": "Timestamp"
         },
         "type": "date"
        },
        "yaxis": {
         "anchor": "x",
         "autorange": true,
         "domain": [
          0,
          1
         ],
         "range": [
          8.005995370370371,
          99.08608796296296
         ],
         "title": {
          "text": "PM2.5"
         },
         "type": "linear"
        }
       }
      },
      "image/png": "[encoded data removed]",
      "text/html": [
       "<div>                            <div id=\"6bccf067-b3d0-45e7-855d-70893459fd2d\" class=\"plotly-graph-div\" style=\"height:525px; width:100%;\"></div>            <script type=\"text/javascript\">                require([\"plotly\"], function(Plotly) {                    window.PLOTLYENV=window.PLOTLYENV || {};                                    if (document.getElementById(\"6bccf067-b3d0-45e7-855d-70893459fd2d\")) {                    Plotly.newPlot(                        \"6bccf067-b3d0-45e7-855d-70893459fd2d\",                        [{\"hovertemplate\":\"variable=y_test<br>Timestamp=%{x}<br>PM2.5=%{y}<extra></extra>\",\"legendgroup\":\"y_test\",\"line\":{\"color\":\"#636efa\",\"dash\":\"solid\"},\"marker\":{\"symbol\":\"circle\"},\"mode\":\"lines\",\"name\":\"y_test\",\"orientation\":\"v\",\"showlegend\":true,\"x\":[\"2021-07-06T00:00:00+05:30\",\"2021-07-07T00:00:00+05:30\",\"2021-07-08T00:00:00+05:30\",\"2021-07-09T00:00:00+05:30\",\"2021-07-10T00:00:00+05:30\",\"2021-07-11T00:00:00+05:30\",\"2021-07-12T00:00:00+05:30\",\"2021-07-13T00:00:00+05:30\",\"2021-07-14T00:00:00+05:30\",\"2021-07-15T00:00:00+05:30\",\"2021-07-16T00:00:00+05:30\",\"2021-07-17T00:00:00+05:30\",\"2021-07-18T00:00:00+05:30\",\"2021-07-19T00:00:00+05:30\",\"2021-07-20T00:00:00+05:30\",\"2021-07-21T00:00:00+05:30\",\"2021-07-22T00:00:00+05:30\",\"2021-07-23T00:00:00+05:30\",\"2021-07-24T00:00:00+05:30\",\"2021-07-25T00:00:00+05:30\",\"2021-07-26T00:00:00+05:30\",\"2021-07-27T00:00:00+05:30\",\"2021-07-28T00:00:00+05:30\",\"2021-07-29T00:00:00+05:30\",\"2021-07-30T00:00:00+05:30\",\"2021-07-31T00:00:00+05:30\",\"2021-08-01T00:00:00+05:30\",\"2021-08-02T00:00:00+05:30\",\"2021-08-03T00:00:00+05:30\",\"2021-08-04T00:00:00+05:30\",\"2021-08-05T00:00:00+05:30\",\"2021-08-06T00:00:00+05:30\",\"2021-08-07T00:00:00+05:30\",\"2021-08-08T00:00:00+05:30\",\"2021-08-09T00:00:00+05:30\",\"2021-08-10T00:00:00+05:30\",\"2021-08-11T00:00:00+05:30\",\"2021-08-12T00:00:00+05:30\",\"2021-08-13T00:00:00+05:30\",\"2021-08-14T00:00:00+05:30\",\"2021-08-15T00:00:00+05:30\",\"2021-08-16T00:00:00+05:30\",\"2021-08-17T00:00:00+05:30\",\"2021-08-18T00:00:00+05:30\",\"2021-08-19T00:00:00+05:30\",\"2021-08-20T00:00:00+05:30\",\"2021-08-21T00:00:00+05:30\",\"2021-08-22T00:00:00+05:30\",\"2021-08-23T00:00:00+05:30\",\"2021-08-24T00:00:00+05:30\",\"2021-08-25T00:00:00+05:30\",\"2021-08-26T00:00:00+05:30\",\"2021-08-27T00:00:00+05:30\",\"2021-08-28T00:00:00+05:30\",\"2021-08-29T00:00:00+05:30\",\"2021-08-30T00:00:00+05:30\",\"2021-08-31T00:00:00+05:30\",\"2021-09-01T00:00:00+05:30\",\"2021-09-02T00:00:00+05:30\",\"2021-09-03T00:00:00+05:30\",\"2021-09-04T00:00:00+05:30\",\"2021-09-05T00:00:00+05:30\",\"2021-09-06T00:00:00+05:30\",\"2021-09-07T00:00:00+05:30\",\"2021-09-08T00:00:00+05:30\",\"2021-09-09T00:00:00+05:30\",\"2021-09-10T00:00:00+05:30\",\"2021-09-11T00:00:00+05:30\",\"2021-09-12T00:00:00+05:30\",\"2021-09-13T00:00:00+05:30\",\"2021-09-14T00:00:00+05:30\",\"2021-09-15T00:00:00+05:30\",\"2021-09-16T00:00:00+05:30\",\"2021-09-17T00:00:00+05:30\",\"2021-09-18T00:00:00+05:30\",\"2021-09-19T00:00:00+05:30\",\"2021-09-20T00:00:00+05:30\",\"2021-09-21T00:00:00+05:30\",\"2021-09-22T00:00:00+05:30\",\"2021-09-23T00:00:00+05:30\",\"2021-09-24T00:00:00+05:30\",\"2021-09-25T00:00:00+05:30\",\"2021-09-26T00:00:00+05:30\",\"2021-09-27T00:00:00+05:30\",\"2021-09-28T00:00:00+05:30\",\"2021-09-29T00:00:00+05:30\",\"2021-09-30T00:00:00+05:30\",\"2021-10-01T00:00:00+05:30\",\"2021-10-02T00:00:00+05:30\",\"2021-10-03T00:00:00+05:30\",\"2021-10-04T00:00:00+05:30\",\"2021-10-05T00:00:00+05:30\",\"2021-10-06T00:00:00+05:30\",\"2021-10-07T00:00:00+05:30\",\"2021-10-08T00:00:00+05:30\",\"2021-10-09T00:00:00+05:30\",\"2021-10-10T00:00:00+05:30\",\"2021-10-11T00:00:00+05:30\",\"2021-10-12T00:00:00+05:30\",\"2021-10-13T00:00:00+05:30\",\"2021-10-14T00:00:00+05:30\",\"2021-10-15T00:00:00+05:30\",\"2021-10-16T00:00:00+05:30\",\"2021-10-17T00:00:00+05:30\",\"2021-10-18T00:00:00+05:30\",\"2021-10-19T00:00:00+05:30\",\"2021-10-20T00:00:00+05:30\",\"2021-10-21T00:00:00+05:30\",\"2021-10-22T00:00:00+05:30\",\"2021-10-23T00:00:00+05:30\",\"2021-10-24T00:00:00+05:30\",\"2021-10-25T00:00:00+05:30\",\"2021-10-26T00:00:00+05:30\",\"2021-10-27T00:00:00+05:30\",\"2021-10-28T00:00:00+05:30\",\"2021-10-29T00:00:00+05:30\",\"2021-10-30T00:00:00+05:30\",\"2021-10-31T00:00:00+05:30\",\"2021-11-01T00:00:00+05:30\",\"2021-11-02T00:00:00+05:30\",\"2021-11-03T00:00:00+05:30\",\"2021-11-04T00:00:00+05:30\",\"2021-11-05T00:00:00+05:30\",\"2021-11-06T00:00:00+05:30\",\"2021-11-07T00:00:00+05:30\",\"2021-11-08T00:00:00+05:30\",\"2021-11-09T00:00:00+05:30\",\"2021-11-10T00:00:00+05:30\",\"2021-11-11T00:00:00+05:30\",\"2021-11-12T00:00:00+05:30\",\"2021-11-13T00:00:00+05:30\",\"2021-11-14T00:00:00+05:30\",\"2021-11-15T00:00:00+05:30\",\"2021-11-16T00:00:00+05:30\",\"2021-11-17T00:00:00+05:30\",\"2021-11-18T00:00:00+05:30\",\"2021-11-19T00:00:00+05:30\",\"2021-11-20T00:00:00+05:30\",\"2021-11-21T00:00:00+05:30\",\"2021-11-22T00:00:00+05:30\",\"2021-11-23T00:00:00+05:30\",\"2021-11-24T00:00:00+05:30\",\"2021-11-25T00:00:00+05:30\",\"2021-11-26T00:00:00+05:30\",\"2021-11-27T00:00:00+05:30\",\"2021-11-28T00:00:00+05:30\",\"2021-11-29T00:00:00+05:30\",\"2021-11-30T00:00:00+05:30\",\"2021-12-01T00:00:00+05:30\",\"2021-12-02T00:00:00+05:30\",\"2021-12-03T00:00:00+05:30\",\"2021-12-04T00:00:00+05:30\",\"2021-12-05T00:00:00+05:30\",\"2021-12-06T00:00:00+05:30\",\"2021-12-07T00:00:00+05:30\",\"2021-12-08T00:00:00+05:30\",\"2021-12-09T00:00:00+05:30\",\"2021-12-10T00:00:00+05:30\",\"2021-12-11T00:00:00+05:30\",\"2021-12-12T00:00:00+05:30\",\"2021-12-13T00:00:00+05:30\",\"2021-12-14T00:00:00+05:30\",\"2021-12-15T00:00:00+05:30\",\"2021-12-16T00:00:00+05:30\",\"2021-12-17T00:00:00+05:30\",\"2021-12-18T00:00:00+05:30\",\"2021-12-19T00:00:00+05:30\",\"2021-12-20T00:00:00+05:30\",\"2021-12-21T00:00:00+05:30\",\"2021-12-22T00:00:00+05:30\",\"2021-12-23T00:00:00+05:30\",\"2021-12-24T00:00:00+05:30\",\"2021-12-25T00:00:00+05:30\",\"2021-12-26T00:00:00+05:30\",\"2021-12-27T00:00:00+05:30\",\"2021-12-28T00:00:00+05:30\",\"2021-12-29T00:00:00+05:30\",\"2021-12-30T00:00:00+05:30\",\"2021-12-31T00:00:00+05:30\",\"2022-01-01T00:00:00+05:30\",\"2022-01-02T00:00:00+05:30\",\"2022-01-03T00:00:00+05:30\",\"2022-01-04T00:00:00+05:30\",\"2022-01-05T00:00:00+05:30\",\"2022-01-06T00:00:00+05:30\",\"2022-01-07T00:00:00+05:30\",\"2022-01-08T00:00:00+05:30\",\"2022-01-09T00:00:00+05:30\",\"2022-01-10T00:00:00+05:30\",\"2022-01-11T00:00:00+05:30\",\"2022-01-12T00:00:00+05:30\",\"2022-01-13T00:00:00+05:30\",\"2022-01-14T00:00:00+05:30\",\"2022-01-15T00:00:00+05:30\",\"2022-01-16T00:00:00+05:30\",\"2022-01-17T00:00:00+05:30\",\"2022-01-18T00:00:00+05:30\",\"2022-01-19T00:00:00+05:30\",\"2022-01-20T00:00:00+05:30\",\"2022-01-21T00:00:00+05:30\",\"2022-01-22T00:00:00+05:30\",\"2022-01-23T00:00:00+05:30\",\"2022-01-24T00:00:00+05:30\",\"2022-01-25T00:00:00+05:30\",\"2022-01-26T00:00:00+05:30\",\"2022-01-27T00:00:00+05:30\",\"2022-01-28T00:00:00+05:30\",\"2022-01-29T00:00:00+05:30\",\"2022-01-30T00:00:00+05:30\",\"2022-01-31T00:00:00+05:30\",\"2022-02-01T00:00:00+05:30\",\"2022-02-02T00:00:00+05:30\",\"2022-02-03T00:00:00+05:30\",\"2022-02-04T00:00:00+05:30\",\"2022-02-05T00:00:00+05:30\",\"2022-02-06T00:00:00+05:30\",\"2022-02-07T00:00:00+05:30\",\"2022-02-08T00:00:00+05:30\",\"2022-02-09T00:00:00+05:30\",\"2022-02-10T00:00:00+05:30\",\"2022-02-11T00:00:00+05:30\",\"2022-02-12T00:00:00+05:30\",\"2022-02-13T00:00:00+05:30\",\"2022-02-14T00:00:00+05:30\",\"2022-02-15T00:00:00+05:30\",\"2022-02-16T00:00:00+05:30\",\"2022-02-17T00:00:00+05:30\",\"2022-02-18T00:00:00+05:30\",\"2022-02-19T00:00:00+05:30\",\"2022-02-20T00:00:00+05:30\",\"2022-02-21T00:00:00+05:30\",\"2022-02-22T00:00:00+05:30\",\"2022-02-23T00:00:00+05:30\",\"2022-02-24T00:00:00+05:30\",\"2022-02-25T00:00:00+05:30\",\"2022-02-26T00:00:00+05:30\",\"2022-02-27T00:00:00+05:30\",\"2022-02-28T00:00:00+05:30\",\"2022-03-01T00:00:00+05:30\",\"2022-03-02T00:00:00+05:30\",\"2022-03-03T00:00:00+05:30\",\"2022-03-04T00:00:00+05:30\",\"2022-03-05T00:00:00+05:30\",\"2022-03-06T00:00:00+05:30\",\"2022-03-07T00:00:00+05:30\",\"2022-03-08T00:00:00+05:30\",\"2022-03-09T00:00:00+05:30\",\"2022-03-10T00:00:00+05:30\",\"2022-03-11T00:00:00+05:30\",\"2022-03-12T00:00:00+05:30\",\"2022-03-13T00:00:00+05:30\",\"2022-03-14T00:00:00+05:30\",\"2022-03-15T00:00:00+05:30\",\"2022-03-16T00:00:00+05:30\",\"2022-03-17T00:00:00+05:30\",\"2022-03-18T00:00:00+05:30\",\"2022-03-19T00:00:00+05:30\",\"2022-03-20T00:00:00+05:30\",\"2022-03-21T00:00:00+05:30\",\"2022-03-22T00:00:00+05:30\",\"2022-03-23T00:00:00+05:30\",\"2022-03-24T00:00:00+05:30\",\"2022-03-25T00:00:00+05:30\",\"2022-03-26T00:00:00+05:30\",\"2022-03-27T00:00:00+05:30\",\"2022-03-28T00:00:00+05:30\",\"2022-03-29T00:00:00+05:30\",\"2022-03-30T00:00:00+05:30\",\"2022-03-31T00:00:00+05:30\",\"2022-04-01T00:00:00+05:30\",\"2022-04-02T00:00:00+05:30\",\"2022-04-03T00:00:00+05:30\",\"2022-04-04T00:00:00+05:30\",\"2022-04-05T00:00:00+05:30\",\"2022-04-06T00:00:00+05:30\",\"2022-04-07T00:00:00+05:30\",\"2022-04-08T00:00:00+05:30\",\"2022-04-09T00:00:00+05:30\",\"2022-04-10T00:00:00+05:30\",\"2022-04-11T00:00:00+05:30\",\"2022-04-12T00:00:00+05:30\",\"2022-04-13T00:00:00+05:30\",\"2022-04-14T00:00:00+05:30\",\"2022-04-15T00:00:00+05:30\",\"2022-04-16T00:00:00+05:30\",\"2022-04-17T00:00:00+05:30\",\"2022-04-18T00:00:00+05:30\",\"2022-04-19T00:00:00+05:30\",\"2022-04-20T00:00:00+05:30\",\"2022-04-21T00:00:00+05:30\",\"2022-04-22T00:00:00+05:30\",\"2022-04-23T00:00:00+05:30\",\"2022-04-24T00:00:00+05:30\",\"2022-04-25T00:00:00+05:30\",\"2022-04-26T00:00:00+05:30\",\"2022-04-27T00:00:00+05:30\",\"2022-04-28T00:00:00+05:30\",\"2022-04-29T00:00:00+05:30\",\"2022-04-30T00:00:00+05:30\",\"2022-05-01T00:00:00+05:30\",\"2022-05-02T00:00:00+05:30\",\"2022-05-03T00:00:00+05:30\",\"2022-05-04T00:00:00+05:30\",\"2022-05-05T00:00:00+05:30\",\"2022-05-06T00:00:00+05:30\",\"2022-05-07T00:00:00+05:30\",\"2022-05-08T00:00:00+05:30\",\"2022-05-09T00:00:00+05:30\",\"2022-05-10T00:00:00+05:30\",\"2022-05-11T00:00:00+05:30\",\"2022-05-12T00:00:00+05:30\",\"2022-05-13T00:00:00+05:30\",\"2022-05-14T00:00:00+05:30\",\"2022-05-15T00:00:00+05:30\",\"2022-05-16T00:00:00+05:30\",\"2022-05-17T00:00:00+05:30\",\"2022-05-18T00:00:00+05:30\",\"2022-05-19T00:00:00+05:30\",\"2022-05-20T00:00:00+05:30\",\"2022-05-21T00:00:00+05:30\",\"2022-05-22T00:00:00+05:30\",\"2022-05-23T00:00:00+05:30\",\"2022-05-24T00:00:00+05:30\",\"2022-05-25T00:00:00+05:30\",\"2022-05-26T00:00:00+05:30\",\"2022-05-27T00:00:00+05:30\",\"2022-05-28T00:00:00+05:30\",\"2022-05-29T00:00:00+05:30\",\"2022-05-30T00:00:00+05:30\",\"2022-05-31T00:00:00+05:30\",\"2022-06-01T00:00:00+05:30\",\"2022-06-02T00:00:00+05:30\",\"2022-06-03T00:00:00+05:30\",\"2022-06-04T00:00:00+05:30\"],\"xaxis\":\"x\",\"y\":[29.241666666666664,30.51375,25.427083333333332,24.0825,26.10166666666667,22.629583333333333,19.08375,17.257083333333334,16.915416666666665,16.972916666666666,19.118750000000002,20.935416666666665,18.848333333333333,17.03125,17.61916666666667,18.080000000000002,19.375,20.482916666666668,20.33875,19.468333333333334,19.570833333333333,19.412916666666664,16.6925,16.03,16.00375,17.11,17.3225,18.435,19.442083333333333,19.76318181818182,21.881666666666664,23.207083333333333,23.500833333333333,22.894166666666667,23.400833333333335,25.745833333333334,26.105,26.101249999999997,25.949166666666667,25.27625,25.94,24.355,25.301666666666666,23.950000000000003,25.3475,20.607083333333332,16.774615384615384,20.13478260869565,20.437916666666666,21.128947368421052,22.2775,24.28142857142857,26.237916666666667,22.644615384615385,23.197499999999998,19.77611111111111,18.860666666666667,19.401904761904763,19.55636363636364,18.378333333333334,19.795833333333334,21.72458333333333,23.205652173913045,20.03,16.362083333333334,17.183333333333334,18.465416666666666,17.2175,17.62333333333333,17.97375,17.655652173913044,16.166521739130435,12.56,12.56,12.56,12.56,24.53333333333333,20.642500000000002,20.040833333333335,21.200833333333332,22.161666666666665,24.34875,22.851249999999997,23.911666666666665,21.084166666666665,19.775833333333335,21.535,23.734166666666667,23.074583333333333,21.082916666666666,24.395833333333332,26.09,27.627916666666668,32.086666666666666,36.55083333333334,38.592083333333335,37.63708333333333,40.35666666666666,43.77708333333334,46.58833333333333,47.024166666666666,46.56375,47.3795652173913,37.43125,24.105833333333333,29.08875,42.16458333333333,45.20583333333334,43.48875,42.955000000000005,41.1025,42.566250000000004,49.94125,53.736250000000005,55.47208333333333,53.90083333333333,54.40416666666667,60.05076923076923,57.17090909090909,46.46888888888889,57.5925,61.01,66.02181818181818,76.08583333333333,75.04875,80.26416666666667,84.14416666666666,81.97083333333333,80.74083333333333,75.60958333333333,68.53041666666667,60.975,67.5975,67.13000000000001,66.04041666666667,65.34958333333333,64.66375000000001,61.740833333333335,55.35041666666667,49.97416666666666,52.76916666666667,59.38125,63.85791666666666,68.59916666666666,69.87333333333333,68.12041666666667,66.08958333333334,63.19625,73.30375,72.31,64.60739130434783,66.71818181818182,63.28208333333333,56.842727272727274,54.49541666666667,52.99166666666667,54.593333333333334,54.609166666666674,55.822916666666664,58.947916666666664,65.33333333333333,67.43958333333333,76.16909090909091,73.73208333333334,70.44916666666667,66.67791666666666,64.10000000000001,70.51416666666667,87.24374999999999,93.76,94.53208333333333,81.60181818181819,88.56833333333333,94.43583333333333,69.05333333333333,71.03041666666667,52.27210526315789,54.04869565217392,53.93826086956521,62.00125,67.04958333333333,73.77208333333333,74.91666666666667,74.79,66.22086956521738,66.22086956521738,66.22086956521738,66.22086956521738,66.22086956521738,45.79526315789474,46.662083333333335,49.2875,53.35874999999999,52.82416666666666,53.79708333333334,57.29416666666666,61.6875,68.51916666666666,68.48363636363636,62.59636363636364,57.29727272727273,51.791999999999994,58.45,59.88625,56.30583333333333,54.09909090909091,45.798095238095236,56.13454545454545,59.74478260869566,73.23791666666666,72.13050000000001,61.55130434782609,56.77125,42.25391304347826,47.16,52.090833333333336,56.00125,56.490833333333335,52.18125,52.1575,48.665416666666665,48.94166666666666,54.125,53.0225,54.35583333333333,54.801,52.875416666666666,51.34583333333333,51.12291666666667,48.834583333333335,49.34833333333333,51.2225,50.90041666666667,55.458333333333336,51.08833333333334,44.37958333333333,43.159166666666664,42.1175,43.97291666666666,47.0,46.05625,46.11666666666667,43.42166666666666,48.22125,52.56458333333333,53.557500000000005,49.97208333333333,51.66916666666666,53.32416666666666,51.92291666666667,57.46458333333334,61.38625,61.82666666666666,56.85833333333333,58.02875,64.57458333333334,53.17666666666667,51.036249999999995,53.39208333333334,51.282916666666665,56.890416666666674,57.20916666666667,50.69416666666667,47.8175,48.87375,55.83541666666667,54.57333333333333,53.79750000000001,56.961666666666666,68.30714285714285,68.30714285714285,68.30714285714285,68.30714285714285,68.30714285714285,34.14454545454546,35.85636363636364,37.27058823529412,38.97529411764706,53.435,53.435,53.435,53.435,53.435,53.435,53.435,53.435,53.435,44.04,43.649166666666666,46.504999999999995,41.005833333333335,43.502916666666664,44.00958333333333,46.635,46.52791666666667,50.13958333333333,50.4,47.04083333333333,47.39166666666667,42.288333333333334,40.02458333333333,46.92791666666667,38.714285714285715,37.995,46.427083333333336,47.34291666666667,46.36666666666667,42.87291666666667,37.80166666666667,35.81166666666667,36.18333333333333,37.48375,42.90541666666667,42.51625,44.5375,45.61041666666667,46.12583333333333,45.24666666666667,43.83541666666667,41.968333333333334,38.80625,32.83083333333334,32.42666666666667,37.844166666666666,40.17208333333333,37.467083333333335,36.99875,35.441250000000004,36.18416666666666,39.86958333333333,42.53666666666667,41.13666666666666,40.58833333333333,38.80952380952381],\"yaxis\":\"y\",\"type\":\"scatter\"},{\"hovertemplate\":\"variable=y_pred<br>Timestamp=%{x}<br>PM2.5=%{y}<extra></extra>\",\"legendgroup\":\"y_pred\",\"line\":{\"color\":\"#EF553B\",\"dash\":\"solid\"},\"marker\":{\"symbol\":\"circle\"},\"mode\":\"lines\",\"name\":\"y_pred\",\"orientation\":\"v\",\"showlegend\":true,\"x\":[\"2021-07-06T00:00:00+05:30\",\"2021-07-07T00:00:00+05:30\",\"2021-07-08T00:00:00+05:30\",\"2021-07-09T00:00:00+05:30\",\"2021-07-10T00:00:00+05:30\",\"2021-07-11T00:00:00+05:30\",\"2021-07-12T00:00:00+05:30\",\"2021-07-13T00:00:00+05:30\",\"2021-07-14T00:00:00+05:30\",\"2021-07-15T00:00:00+05:30\",\"2021-07-16T00:00:00+05:30\",\"2021-07-17T00:00:00+05:30\",\"2021-07-18T00:00:00+05:30\",\"2021-07-19T00:00:00+05:30\",\"2021-07-20T00:00:00+05:30\",\"2021-07-21T00:00:00+05:30\",\"2021-07-22T00:00:00+05:30\",\"2021-07-23T00:00:00+05:30\",\"2021-07-24T00:00:00+05:30\",\"2021-07-25T00:00:00+05:30\",\"2021-07-26T00:00:00+05:30\",\"2021-07-27T00:00:00+05:30\",\"2021-07-28T00:00:00+05:30\",\"2021-07-29T00:00:00+05:30\",\"2021-07-30T00:00:00+05:30\",\"2021-07-31T00:00:00+05:30\",\"2021-08-01T00:00:00+05:30\",\"2021-08-02T00:00:00+05:30\",\"2021-08-03T00:00:00+05:30\",\"2021-08-04T00:00:00+05:30\",\"2021-08-05T00:00:00+05:30\",\"2021-08-06T00:00:00+05:30\",\"2021-08-07T00:00:00+05:30\",\"2021-08-08T00:00:00+05:30\",\"2021-08-09T00:00:00+05:30\",\"2021-08-10T00:00:00+05:30\",\"2021-08-11T00:00:00+05:30\",\"2021-08-12T00:00:00+05:30\",\"2021-08-13T00:00:00+05:30\",\"2021-08-14T00:00:00+05:30\",\"2021-08-15T00:00:00+05:30\",\"2021-08-16T00:00:00+05:30\",\"2021-08-17T00:00:00+05:30\",\"2021-08-18T00:00:00+05:30\",\"2021-08-19T00:00:00+05:30\",\"2021-08-20T00:00:00+05:30\",\"2021-08-21T00:00:00+05:30\",\"2021-08-22T00:00:00+05:30\",\"2021-08-23T00:00:00+05:30\",\"2021-08-24T00:00:00+05:30\",\"2021-08-25T00:00:00+05:30\",\"2021-08-26T00:00:00+05:30\",\"2021-08-27T00:00:00+05:30\",\"2021-08-28T00:00:00+05:30\",\"2021-08-29T00:00:00+05:30\",\"2021-08-30T00:00:00+05:30\",\"2021-08-31T00:00:00+05:30\",\"2021-09-01T00:00:00+05:30\",\"2021-09-02T00:00:00+05:30\",\"2021-09-03T00:00:00+05:30\",\"2021-09-04T00:00:00+05:30\",\"2021-09-05T00:00:00+05:30\",\"2021-09-06T00:00:00+05:30\",\"2021-09-07T00:00:00+05:30\",\"2021-09-08T00:00:00+05:30\",\"2021-09-09T00:00:00+05:30\",\"2021-09-10T00:00:00+05:30\",\"2021-09-11T00:00:00+05:30\",\"2021-09-12T00:00:00+05:30\",\"2021-09-13T00:00:00+05:30\",\"2021-09-14T00:00:00+05:30\",\"2021-09-15T00:00:00+05:30\",\"2021-09-16T00:00:00+05:30\",\"2021-09-17T00:00:00+05:30\",\"2021-09-18T00:00:00+05:30\",\"2021-09-19T00:00:00+05:30\",\"2021-09-20T00:00:00+05:30\",\"2021-09-21T00:00:00+05:30\",\"2021-09-22T00:00:00+05:30\",\"2021-09-23T00:00:00+05:30\",\"2021-09-24T00:00:00+05:30\",\"2021-09-25T00:00:00+05:30\",\"2021-09-26T00:00:00+05:30\",\"2021-09-27T00:00:00+05:30\",\"2021-09-28T00:00:00+05:30\",\"2021-09-29T00:00:00+05:30\",\"2021-09-30T00:00:00+05:30\",\"2021-10-01T00:00:00+05:30\",\"2021-10-02T00:00:00+05:30\",\"2021-10-03T00:00:00+05:30\",\"2021-10-04T00:00:00+05:30\",\"2021-10-05T00:00:00+05:30\",\"2021-10-06T00:00:00+05:30\",\"2021-10-07T00:00:00+05:30\",\"2021-10-08T00:00:00+05:30\",\"2021-10-09T00:00:00+05:30\",\"2021-10-10T00:00:00+05:30\",\"2021-10-11T00:00:00+05:30\",\"2021-10-12T00:00:00+05:30\",\"2021-10-13T00:00:00+05:30\",\"2021-10-14T00:00:00+05:30\",\"2021-10-15T00:00:00+05:30\",\"2021-10-16T00:00:00+05:30\",\"2021-10-17T00:00:00+05:30\",\"2021-10-18T00:00:00+05:30\",\"2021-10-19T00:00:00+05:30\",\"2021-10-20T00:00:00+05:30\",\"2021-10-21T00:00:00+05:30\",\"2021-10-22T00:00:00+05:30\",\"2021-10-23T00:00:00+05:30\",\"2021-10-24T00:00:00+05:30\",\"2021-10-25T00:00:00+05:30\",\"2021-10-26T00:00:00+05:30\",\"2021-10-27T00:00:00+05:30\",\"2021-10-28T00:00:00+05:30\",\"2021-10-29T00:00:00+05:30\",\"2021-10-30T00:00:00+05:30\",\"2021-10-31T00:00:00+05:30\",\"2021-11-01T00:00:00+05:30\",\"2021-11-02T00:00:00+05:30\",\"2021-11-03T00:00:00+05:30\",\"2021-11-04T00:00:00+05:30\",\"2021-11-05T00:00:00+05:30\",\"2021-11-06T00:00:00+05:30\",\"2021-11-07T00:00:00+05:30\",\"2021-11-08T00:00:00+05:30\",\"2021-11-09T00:00:00+05:30\",\"2021-11-10T00:00:00+05:30\",\"2021-11-11T00:00:00+05:30\",\"2021-11-12T00:00:00+05:30\",\"2021-11-13T00:00:00+05:30\",\"2021-11-14T00:00:00+05:30\",\"2021-11-15T00:00:00+05:30\",\"2021-11-16T00:00:00+05:30\",\"2021-11-17T00:00:00+05:30\",\"2021-11-18T00:00:00+05:30\",\"2021-11-19T00:00:00+05:30\",\"2021-11-20T00:00:00+05:30\",\"2021-11-21T00:00:00+05:30\",\"2021-11-22T00:00:00+05:30\",\"2021-11-23T00:00:00+05:30\",\"2021-11-24T00:00:00+05:30\",\"2021-11-25T00:00:00+05:30\",\"2021-11-26T00:00:00+05:30\",\"2021-11-27T00:00:00+05:30\",\"2021-11-28T00:00:00+05:30\",\"2021-11-29T00:00:00+05:30\",\"2021-11-30T00:00:00+05:30\",\"2021-12-01T00:00:00+05:30\",\"2021-12-02T00:00:00+05:30\",\"2021-12-03T00:00:00+05:30\",\"2021-12-04T00:00:00+05:30\",\"2021-12-05T00:00:00+05:30\",\"2021-12-06T00:00:00+05:30\",\"2021-12-07T00:00:00+05:30\",\"2021-12-08T00:00:00+05:30\",\"2021-12-09T00:00:00+05:30\",\"2021-12-10T00:00:00+05:30\",\"2021-12-11T00:00:00+05:30\",\"2021-12-12T00:00:00+05:30\",\"2021-12-13T00:00:00+05:30\",\"2021-12-14T00:00:00+05:30\",\"2021-12-15T00:00:00+05:30\",\"2021-12-16T00:00:00+05:30\",\"2021-12-17T00:00:00+05:30\",\"2021-12-18T00:00:00+05:30\",\"2021-12-19T00:00:00+05:30\",\"2021-12-20T00:00:00+05:30\",\"2021-12-21T00:00:00+05:30\",\"2021-12-22T00:00:00+05:30\",\"2021-12-23T00:00:00+05:30\",\"2021-12-24T00:00:00+05:30\",\"2021-12-25T00:00:00+05:30\",\"2021-12-26T00:00:00+05:30\",\"2021-12-27T00:00:00+05:30\",\"2021-12-28T00:00:00+05:30\",\"2021-12-29T00:00:00+05:30\",\"2021-12-30T00:00:00+05:30\",\"2021-12-31T00:00:00+05:30\",\"2022-01-01T00:00:00+05:30\",\"2022-01-02T00:00:00+05:30\",\"2022-01-03T00:00:00+05:30\",\"2022-01-04T00:00:00+05:30\",\"2022-01-05T00:00:00+05:30\",\"2022-01-06T00:00:00+05:30\",\"2022-01-07T00:00:00+05:30\",\"2022-01-08T00:00:00+05:30\",\"2022-01-09T00:00:00+05:30\",\"2022-01-10T00:00:00+05:30\",\"2022-01-11T00:00:00+05:30\",\"2022-01-12T00:00:00+05:30\",\"2022-01-13T00:00:00+05:30\",\"2022-01-14T00:00:00+05:30\",\"2022-01-15T00:00:00+05:30\",\"2022-01-16T00:00:00+05:30\",\"2022-01-17T00:00:00+05:30\",\"2022-01-18T00:00:00+05:30\",\"2022-01-19T00:00:00+05:30\",\"2022-01-20T00:00:00+05:30\",\"2022-01-21T00:00:00+05:30\",\"2022-01-22T00:00:00+05:30\",\"2022-01-23T00:00:00+05:30\",\"2022-01-24T00:00:00+05:30\",\"2022-01-25T00:00:00+05:30\",\"2022-01-26T00:00:00+05:30\",\"2022-01-27T00:00:00+05:30\",\"2022-01-28T00:00:00+05:30\",\"2022-01-29T00:00:00+05:30\",\"2022-01-30T00:00:00+05:30\",\"2022-01-31T00:00:00+05:30\",\"2022-02-01T00:00:00+05:30\",\"2022-02-02T00:00:00+05:30\",\"2022-02-03T00:00:00+05:30\",\"2022-02-04T00:00:00+05:30\",\"2022-02-05T00:00:00+05:30\",\"2022-02-06T00:00:00+05:30\",\"2022-02-07T00:00:00+05:30\",\"2022-02-08T00:00:00+05:30\",\"2022-02-09T00:00:00+05:30\",\"2022-02-10T00:00:00+05:30\",\"2022-02-11T00:00:00+05:30\",\"2022-02-12T00:00:00+05:30\",\"2022-02-13T00:00:00+05:30\",\"2022-02-14T00:00:00+05:30\",\"2022-02-15T00:00:00+05:30\",\"2022-02-16T00:00:00+05:30\",\"2022-02-17T00:00:00+05:30\",\"2022-02-18T00:00:00+05:30\",\"2022-02-19T00:00:00+05:30\",\"2022-02-20T00:00:00+05:30\",\"2022-02-21T00:00:00+05:30\",\"2022-02-22T00:00:00+05:30\",\"2022-02-23T00:00:00+05:30\",\"2022-02-24T00:00:00+05:30\",\"2022-02-25T00:00:00+05:30\",\"2022-02-26T00:00:00+05:30\",\"2022-02-27T00:00:00+05:30\",\"2022-02-28T00:00:00+05:30\",\"2022-03-01T00:00:00+05:30\",\"2022-03-02T00:00:00+05:30\",\"2022-03-03T00:00:00+05:30\",\"2022-03-04T00:00:00+05:30\",\"2022-03-05T00:00:00+05:30\",\"2022-03-06T00:00:00+05:30\",\"2022-03-07T00:00:00+05:30\",\"2022-03-08T00:00:00+05:30\",\"2022-03-09T00:00:00+05:30\",\"2022-03-10T00:00:00+05:30\",\"2022-03-11T00:00:00+05:30\",\"2022-03-12T00:00:00+05:30\",\"2022-03-13T00:00:00+05:30\",\"2022-03-14T00:00:00+05:30\",\"2022-03-15T00:00:00+05:30\",\"2022-03-16T00:00:00+05:30\",\"2022-03-17T00:00:00+05:30\",\"2022-03-18T00:00:00+05:30\",\"2022-03-19T00:00:00+05:30\",\"2022-03-20T00:00:00+05:30\",\"2022-03-21T00:00:00+05:30\",\"2022-03-22T00:00:00+05:30\",\"2022-03-23T00:00:00+05:30\",\"2022-03-24T00:00:00+05:30\",\"2022-03-25T00:00:00+05:30\",\"2022-03-26T00:00:00+05:30\",\"2022-03-27T00:00:00+05:30\",\"2022-03-28T00:00:00+05:30\",\"2022-03-29T00:00:00+05:30\",\"2022-03-30T00:00:00+05:30\",\"2022-03-31T00:00:00+05:30\",\"2022-04-01T00:00:00+05:30\",\"2022-04-02T00:00:00+05:30\",\"2022-04-03T00:00:00+05:30\",\"2022-04-04T00:00:00+05:30\",\"2022-04-05T00:00:00+05:30\",\"2022-04-06T00:00:00+05:30\",\"2022-04-07T00:00:00+05:30\",\"2022-04-08T00:00:00+05:30\",\"2022-04-09T00:00:00+05:30\",\"2022-04-10T00:00:00+05:30\",\"2022-04-11T00:00:00+05:30\",\"2022-04-12T00:00:00+05:30\",\"2022-04-13T00:00:00+05:30\",\"2022-04-14T00:00:00+05:30\",\"2022-04-15T00:00:00+05:30\",\"2022-04-16T00:00:00+05:30\",\"2022-04-17T00:00:00+05:30\",\"2022-04-18T00:00:00+05:30\",\"2022-04-19T00:00:00+05:30\",\"2022-04-20T00:00:00+05:30\",\"2022-04-21T00:00:00+05:30\",\"2022-04-22T00:00:00+05:30\",\"2022-04-23T00:00:00+05:30\",\"2022-04-24T00:00:00+05:30\",\"2022-04-25T00:00:00+05:30\",\"2022-04-26T00:00:00+05:30\",\"2022-04-27T00:00:00+05:30\",\"2022-04-28T00:00:00+05:30\",\"2022-04-29T00:00:00+05:30\",\"2022-04-30T00:00:00+05:30\",\"2022-05-01T00:00:00+05:30\",\"2022-05-02T00:00:00+05:30\",\"2022-05-03T00:00:00+05:30\",\"2022-05-04T00:00:00+05:30\",\"2022-05-05T00:00:00+05:30\",\"2022-05-06T00:00:00+05:30\",\"2022-05-07T00:00:00+05:30\",\"2022-05-08T00:00:00+05:30\",\"2022-05-09T00:00:00+05:30\",\"2022-05-10T00:00:00+05:30\",\"2022-05-11T00:00:00+05:30\",\"2022-05-12T00:00:00+05:30\",\"2022-05-13T00:00:00+05:30\",\"2022-05-14T00:00:00+05:30\",\"2022-05-15T00:00:00+05:30\",\"2022-05-16T00:00:00+05:30\",\"2022-05-17T00:00:00+05:30\",\"2022-05-18T00:00:00+05:30\",\"2022-05-19T00:00:00+05:30\",\"2022-05-20T00:00:00+05:30\",\"2022-05-21T00:00:00+05:30\",\"2022-05-22T00:00:00+05:30\",\"2022-05-23T00:00:00+05:30\",\"2022-05-24T00:00:00+05:30\",\"2022-05-25T00:00:00+05:30\",\"2022-05-26T00:00:00+05:30\",\"2022-05-27T00:00:00+05:30\",\"2022-05-28T00:00:00+05:30\",\"2022-05-29T00:00:00+05:30\",\"2022-05-30T00:00:00+05:30\",\"2022-05-31T00:00:00+05:30\",\"2022-06-01T00:00:00+05:30\",\"2022-06-02T00:00:00+05:30\",\"2022-06-03T00:00:00+05:30\",\"2022-06-04T00:00:00+05:30\"],\"xaxis\":\"x\",\"y\":[29.007101775299375,29.77760447004287,31.01307964181384,26.072797657870208,24.76690889949979,26.72796775387322,23.355804437015234,19.91201350620263,18.137914864524316,17.80608072077974,17.861925979117242,19.946006272147198,21.710392694984204,19.683371687646915,17.918580589024852,18.489578121736557,18.93714954000668,20.194881879955627,21.270914792415173,21.130896970786363,20.285529255807806,20.385079498931177,20.231707376395573,17.589579175775658,16.946144677539227,16.920650103080803,17.995064312400125,18.201448962777853,19.28193330887299,20.260034681349378,20.571892556795365,22.629411402842656,23.916685075100578,24.2019815035639,23.612773560524754,24.104859315150858,26.382374633436793,26.731205160153653,26.72756307808816,26.579856416543322,25.92630502368053,26.570953549272126,25.03156686292534,25.950990246568846,24.638221999852504,25.995504582924827,21.39150817636137,17.66933143433791,20.93279937670258,21.2272098076293,21.898353947779192,23.0138533986443,24.960112681450024,26.860296735585994,23.370403894183735,23.907377532044325,20.584449769034624,19.695350090884528,20.221012373504852,20.371026212577473,19.2268974021056,20.60360442286053,22.476848631877164,23.915295101751912,20.831032214061082,17.26867127822755,18.066287250569694,19.31147464118196,18.099470664944153,18.493624879587095,18.833957214817815,18.525013644827837,17.078737578242254,13.576004739606516,13.576004739606516,13.576004739606516,13.576004739606516,25.204768098928604,21.425905618090994,20.8415537844725,21.968171170063833,22.901353530399188,25.025496726149523,23.57109195466415,24.6009918276275,21.854861950248612,20.584179985177922,22.29272114967743,24.428599943194342,23.78799817545329,21.853647922893447,25.071225089860665,26.716636831891694,28.210295154527337,32.540730730394046,36.87642709146646,38.85893376244777,37.93141686310317,40.572735712152976,43.894719231664226,46.62506675342599,47.04835762459285,46.60119088210779,47.393528474644874,37.73150702528632,24.789570743462832,29.629088456927924,42.32862394350385,45.28235249861563,43.61468358840661,43.09629390775198,41.297105367400285,42.71873140029626,49.881492795758426,53.56727984603354,55.25315916657,53.72712678113001,54.21597512947568,59.70007911071928,56.903095919652095,46.509059695043746,57.31255423671164,60.6317050257275,65.49929252319227,75.27368428056435,74.26644625156406,79.33177305308948,83.10011396351568,80.98932506867214,79.79472215119166,74.81113985824723,67.93569827017365,60.59771225978294,67.02962918743694,66.57558295660596,65.5173557786888,64.84640332706866,64.18030698486919,61.341506352712855,55.13499383733413,49.91346218277772,52.62802734892237,59.04982738195001,63.39766401657405,68.00246977470762,69.23996832540385,67.53749729768016,65.56510752132522,62.75503886990773,72.57166406375639,71.60651231640175,64.12557018629076,66.1756161261413,62.83840208162893,56.58435855586019,54.304599126402586,52.844124218141395,54.39969793589036,54.41507561572243,55.593896177585776,58.628964565493476,64.83062097145154,66.87625706490134,75.35454586015977,72.98767077079228,69.79923026034898,66.13650972982195,63.632780647690645,69.86235968281746,86.11049712853506,92.43922173100022,93.18908596070594,80.63092947794492,87.39696144922287,93.09560585435838,68.44356638041687,70.36375298049981,52.14527043607804,53.87073390102626,53.7634772233875,61.59442871837182,66.49748053009046,73.0265196461575,74.13816402770183,74.01514258904531,65.69261558281602,65.69261558281602,65.69261558281602,65.69261558281602,65.69261558281602,45.85481964338884,46.696694367380616,49.24655648900814,53.200643584774284,52.68144455254954,53.62636251065148,57.02280637461271,61.289707852225895,67.92477202397718,67.89026421612436,62.17241610555266,57.025823048646764,51.67898169781288,58.14537700235352,59.54029443343589,56.06291541246378,53.91967887740042,45.85757022165718,55.8965568760987,59.40289820711027,72.50772528971781,71.43217798820034,61.15743165431117,56.5149382643695,42.41538291289964,47.18028193052057,51.96921517085387,55.76709741358904,56.242591461027914,52.057029816210665,52.03396329646257,48.64237554192198,48.91067558741302,53.94484235348926,52.874070226235425,54.16903273840937,54.60138834716145,52.73121967411123,51.245654867176675,51.0291533221726,48.80667391065405,49.30563915362607,51.12587083480058,50.81305645295357,55.23980486566321,50.995565232013085,44.47988041685283,43.29458504242861,42.28289557979271,44.08491685063977,47.0248864290597,46.10829577591157,46.166973764744455,43.54953078701285,48.210991155054025,52.42933153846068,53.39367393424522,49.91143880385245,51.559683276378856,53.16705549461477,51.80613082947697,57.18831877069996,60.99712725963159,61.42486956443405,56.59951550344585,57.73624978366356,64.09370636686756,53.023800266705535,50.94498075888128,53.23301764757864,51.18454882363346,56.630675538895055,56.94025251446163,50.61274193935166,47.81886031933636,48.84471343444916,55.606036451137406,54.38027349820775,53.62676718643654,56.699875098139344,67.71884986021094,67.71884986021094,67.71884986021094,67.71884986021094,67.71884986021094,34.5393876440698,36.20194292390404,37.57546880346095,39.23111646240806,53.27469925343924,53.27469925343924,53.27469925343924,53.27469925343924,53.27469925343924,53.27469925343924,53.27469925343924,53.27469925343924,53.27469925343924,44.15006965203352,43.770483765652536,46.54413159641512,41.20322058526768,43.62844256509845,44.120528319724556,46.670390441352076,46.566388764593114,50.0741184694443,50.327040835103276,47.06454465599503,47.405281667010804,42.448812651664994,40.250209111464656,46.9548775182453,38.97761938912157,38.279033362464865,46.468457224609956,47.35793460015944,46.40977923577707,43.01657277809627,38.09126379819965,36.15853224878003,36.51950304904851,37.782496174203175,43.04813748933051,42.67017030608973,44.63325253938844,45.675292685903415,46.17587663201565,45.32201072555095,43.95137384157184,42.13802164874325,39.06693711596571,33.26348168250114,32.87094617099841,38.132540728275195,40.3934643393739,37.766309142801,37.3114535603999,35.7987754758667,36.52031240061862,40.09966971942443,42.689999419557395,41.33028878177474,40.79773544864321],\"yaxis\":\"y\",\"type\":\"scatter\"}],                        {\"template\":{\"data\":{\"histogram2dcontour\":[{\"type\":\"histogram2dcontour\",\"colorbar\":{\"outlinewidth\":0,\"ticks\":\"\"},\"colorscale\":[[0.0,\"#0d0887\"],[0.1111111111111111,\"#46039f\"],[0.2222222222222222,\"#7201a8\"],[0.3333333333333333,\"#9c179e\"],[0.4444444444444444,\"#bd3786\"],[0.5555555555555556,\"#d8576b\"],[0.6666666666666666,\"#ed7953\"],[0.7777777777777778,\"#fb9f3a\"],[0.8888888888888888,\"#fdca26\"],[1.0,\"#f0f921\"]]}],\"choropleth\":[{\"type\":\"choropleth\",\"colorbar\":{\"outlinewidth\":0,\"ticks\":\"\"}}],\"histogram2d\":[{\"type\":\"histogram2d\",\"colorbar\":{\"outlinewidth\":0,\"ticks\":\"\"},\"colorscale\":[[0.0,\"#0d0887\"],[0.1111111111111111,\"#46039f\"],[0.2222222222222222,\"#7201a8\"],[0.3333333333333333,\"#9c179e\"],[0.4444444444444444,\"#bd3786\"],[0.5555555555555556,\"#d8576b\"],[0.6666666666666666,\"#ed7953\"],[0.7777777777777778,\"#fb9f3a\"],[0.8888888888888888,\"#fdca26\"],[1.0,\"#f0f921\"]]}],\"heatmap\":[{\"type\":\"heatmap\",\"colorbar\":{\"outlinewidth\":0,\"ticks\":\"\"},\"colorscale\":[[0.0,\"#0d0887\"],[0.1111111111111111,\"#46039f\"],[0.2222222222222222,\"#7201a8\"],[0.3333333333333333,\"#9c179e\"],[0.4444444444444444,\"#bd3786\"],[0.5555555555555556,\"#d8576b\"],[0.6666666666666666,\"#ed7953\"],[0.7777777777777778,\"#fb9f3a\"],[0.8888888888888888,\"#fdca26\"],[1.0,\"#f0f921\"]]}],\"heatmapgl\":[{\"type\":\"heatmapgl\",\"colorbar\":{\"outlinewidth\":0,\"ticks\":\"\"},\"colorscale\":[[0.0,\"#0d0887\"],[0.1111111111111111,\"#46039f\"],[0.2222222222222222,\"#7201a8\"],[0.3333333333333333,\"#9c179e\"],[0.4444444444444444,\"#bd3786\"],[0.5555555555555556,\"#d8576b\"],[0.6666666666666666,\"#ed7953\"],[0.7777777777777778,\"#fb9f3a\"],[0.8888888888888888,\"#fdca26\"],[1.0,\"#f0f921\"]]}],\"contourcarpet\":[{\"type\":\"contourcarpet\",\"colorbar\":{\"outlinewidth\":0,\"ticks\":\"\"}}],\"contour\":[{\"type\":\"contour\",\"colorbar\":{\"outlinewidth\":0,\"ticks\":\"\"},\"colorscale\":[[0.0,\"#0d0887\"],[0.1111111111111111,\"#46039f\"],[0.2222222222222222,\"#7201a8\"],[0.3333333333333333,\"#9c179e\"],[0.4444444444444444,\"#bd3786\"],[0.5555555555555556,\"#d8576b\"],[0.6666666666666666,\"#ed7953\"],[0.7777777777777778,\"#fb9f3a\"],[0.8888888888888888,\"#fdca26\"],[1.0,\"#f0f921\"]]}],\"surface\":[{\"type\":\"surface\",\"colorbar\":{\"outlinewidth\":0,\"ticks\":\"\"},\"colorscale\":[[0.0,\"#0d0887\"],[0.1111111111111111,\"#46039f\"],[0.2222222222222222,\"#7201a8\"],[0.3333333333333333,\"#9c179e\"],[0.4444444444444444,\"#bd3786\"],[0.5555555555555556,\"#d8576b\"],[0.6666666666666666,\"#ed7953\"],[0.7777777777777778,\"#fb9f3a\"],[0.8888888888888888,\"#fdca26\"],[1.0,\"#f0f921\"]]}],\"mesh3d\":[{\"type\":\"mesh3d\",\"colorbar\":{\"outlinewidth\":0,\"ticks\":\"\"}}],\"scatter\":[{\"fillpattern\":{\"fillmode\":\"overlay\",\"size\":10,\"solidity\":0.2},\"type\":\"scatter\"}],\"parcoords\":[{\"type\":\"parcoords\",\"line\":{\"colorbar\":{\"outlinewidth\":0,\"ticks\":\"\"}}}],\"scatterpolargl\":[{\"type\":\"scatterpolargl\",\"marker\":{\"colorbar\":{\"outlinewidth\":0,\"ticks\":\"\"}}}],\"bar\":[{\"error_x\":{\"color\":\"#2a3f5f\"},\"error_y\":{\"color\":\"#2a3f5f\"},\"marker\":{\"line\":{\"color\":\"#E5ECF6\",\"width\":0.5},\"pattern\":{\"fillmode\":\"overlay\",\"size\":10,\"solidity\":0.2}},\"type\":\"bar\"}],\"scattergeo\":[{\"type\":\"scattergeo\",\"marker\":{\"colorbar\":{\"outlinewidth\":0,\"ticks\":\"\"}}}],\"scatterpolar\":[{\"type\":\"scatterpolar\",\"marker\":{\"colorbar\":{\"outlinewidth\":0,\"ticks\":\"\"}}}],\"histogram\":[{\"marker\":{\"pattern\":{\"fillmode\":\"overlay\",\"size\":10,\"solidity\":0.2}},\"type\":\"histogram\"}],\"scattergl\":[{\"type\":\"scattergl\",\"marker\":{\"colorbar\":{\"outlinewidth\":0,\"ticks\":\"\"}}}],\"scatter3d\":[{\"type\":\"scatter3d\",\"line\":{\"colorbar\":{\"outlinewidth\":0,\"ticks\":\"\"}},\"marker\":{\"colorbar\":{\"outlinewidth\":0,\"ticks\":\"\"}}}],\"scattermapbox\":[{\"type\":\"scattermapbox\",\"marker\":{\"colorbar\":{\"outlinewidth\":0,\"ticks\":\"\"}}}],\"scatterternary\":[{\"type\":\"scatterternary\",\"marker\":{\"colorbar\":{\"outlinewidth\":0,\"ticks\":\"\"}}}],\"scattercarpet\":[{\"type\":\"scattercarpet\",\"marker\":{\"colorbar\":{\"outlinewidth\":0,\"ticks\":\"\"}}}],\"carpet\":[{\"aaxis\":{\"endlinecolor\":\"#2a3f5f\",\"gridcolor\":\"white\",\"linecolor\":\"white\",\"minorgridcolor\":\"white\",\"startlinecolor\":\"#2a3f5f\"},\"baxis\":{\"endlinecolor\":\"#2a3f5f\",\"gridcolor\":\"white\",\"linecolor\":\"white\",\"minorgridcolor\":\"white\",\"startlinecolor\":\"#2a3f5f\"},\"type\":\"carpet\"}],\"table\":[{\"cells\":{\"fill\":{\"color\":\"#EBF0F8\"},\"line\":{\"color\":\"white\"}},\"header\":{\"fill\":{\"color\":\"#C8D4E3\"},\"line\":{\"color\":\"white\"}},\"type\":\"table\"}],\"barpolar\":[{\"marker\":{\"line\":{\"color\":\"#E5ECF6\",\"width\":0.5},\"pattern\":{\"fillmode\":\"overlay\",\"size\":10,\"solidity\":0.2}},\"type\":\"barpolar\"}],\"pie\":[{\"automargin\":true,\"type\":\"pie\"}]},\"layout\":{\"autotypenumbers\":\"strict\",\"colorway\":[\"#636efa\",\"#EF553B\",\"#00cc96\",\"#ab63fa\",\"#FFA15A\",\"#19d3f3\",\"#FF6692\",\"#B6E880\",\"#FF97FF\",\"#FECB52\"],\"font\":{\"color\":\"#2a3f5f\"},\"hovermode\":\"closest\",\"hoverlabel\":{\"align\":\"left\"},\"paper_bgcolor\":\"white\",\"plot_bgcolor\":\"#E5ECF6\",\"polar\":{\"bgcolor\":\"#E5ECF6\",\"angularaxis\":{\"gridcolor\":\"white\",\"linecolor\":\"white\",\"ticks\":\"\"},\"radialaxis\":{\"gridcolor\":\"white\",\"linecolor\":\"white\",\"ticks\":\"\"}},\"ternary\":{\"bgcolor\":\"#E5ECF6\",\"aaxis\":{\"gridcolor\":\"white\",\"linecolor\":\"white\",\"ticks\":\"\"},\"baxis\":{\"gridcolor\":\"white\",\"linecolor\":\"white\",\"ticks\":\"\"},\"caxis\":{\"gridcolor\":\"white\",\"linecolor\":\"white\",\"ticks\":\"\"}},\"coloraxis\":{\"colorbar\":{\"outlinewidth\":0,\"ticks\":\"\"}},\"colorscale\":{\"sequential\":[[0.0,\"#0d0887\"],[0.1111111111111111,\"#46039f\"],[0.2222222222222222,\"#7201a8\"],[0.3333333333333333,\"#9c179e\"],[0.4444444444444444,\"#bd3786\"],[0.5555555555555556,\"#d8576b\"],[0.6666666666666666,\"#ed7953\"],[0.7777777777777778,\"#fb9f3a\"],[0.8888888888888888,\"#fdca26\"],[1.0,\"#f0f921\"]],\"sequentialminus\":[[0.0,\"#0d0887\"],[0.1111111111111111,\"#46039f\"],[0.2222222222222222,\"#7201a8\"],[0.3333333333333333,\"#9c179e\"],[0.4444444444444444,\"#bd3786\"],[0.5555555555555556,\"#d8576b\"],[0.6666666666666666,\"#ed7953\"],[0.7777777777777778,\"#fb9f3a\"],[0.8888888888888888,\"#fdca26\"],[1.0,\"#f0f921\"]],\"diverging\":[[0,\"#8e0152\"],[0.1,\"#c51b7d\"],[0.2,\"#de77ae\"],[0.3,\"#f1b6da\"],[0.4,\"#fde0ef\"],[0.5,\"#f7f7f7\"],[0.6,\"#e6f5d0\"],[0.7,\"#b8e186\"],[0.8,\"#7fbc41\"],[0.9,\"#4d9221\"],[1,\"#276419\"]]},\"xaxis\":{\"gridcolor\":\"white\",\"linecolor\":\"white\",\"ticks\":\"\",\"title\":{\"standoff\":15},\"zerolinecolor\":\"white\",\"automargin\":true,\"zerolinewidth\":2},\"yaxis\":{\"gridcolor\":\"white\",\"linecolor\":\"white\",\"ticks\":\"\",\"title\":{\"standoff\":15},\"zerolinecolor\":\"white\",\"automargin\":true,\"zerolinewidth\":2},\"scene\":{\"xaxis\":{\"backgroundcolor\":\"#E5ECF6\",\"gridcolor\":\"white\",\"linecolor\":\"white\",\"showbackground\":true,\"ticks\":\"\",\"zerolinecolor\":\"white\",\"gridwidth\":2},\"yaxis\":{\"backgroundcolor\":\"#E5ECF6\",\"gridcolor\":\"white\",\"linecolor\":\"white\",\"showbackground\":true,\"ticks\":\"\",\"zerolinecolor\":\"white\",\"gridwidth\":2},\"zaxis\":{\"backgroundcolor\":\"#E5ECF6\",\"gridcolor\":\"white\",\"linecolor\":\"white\",\"showbackground\":true,\"ticks\":\"\",\"zerolinecolor\":\"white\",\"gridwidth\":2}},\"shapedefaults\":{\"line\":{\"color\":\"#2a3f5f\"}},\"annotationdefaults\":{\"arrowcolor\":\"#2a3f5f\",\"arrowhead\":0,\"arrowwidth\":1},\"geo\":{\"bgcolor\":\"white\",\"landcolor\":\"#E5ECF6\",\"subunitcolor\":\"white\",\"showland\":true,\"showlakes\":true,\"lakecolor\":\"white\"},\"title\":{\"x\":0.05},\"mapbox\":{\"style\":\"light\"}}},\"xaxis\":{\"anchor\":\"y\",\"domain\":[0.0,1.0],\"title\":{\"text\":\"Timestamp\"}},\"yaxis\":{\"anchor\":\"x\",\"domain\":[0.0,1.0],\"title\":{\"text\":\"PM2.5\"}},\"legend\":{\"title\":{\"text\":\"variable\"},\"tracegroupgap\":0},\"margin\":{\"t\":60}},                        {\"responsive\": true}                    ).then(function(){\n",
       "                            \n",
       "var gd = document.getElementById('6bccf067-b3d0-45e7-855d-70893459fd2d');\n",
       "var x = new MutationObserver(function (mutations, observer) {{\n",
       "        var display = window.getComputedStyle(gd).display;\n",
       "        if (!display || display === 'none') {{\n",
       "            console.log([gd, 'removed!']);\n",
       "            Plotly.purge(gd);\n",
       "            observer.disconnect();\n",
       "        }}\n",
       "}});\n",
       "\n",
       "// Listen for the removal of the full notebook cells\n",
       "var notebookContainer = gd.closest('#notebook-container');\n",
       "if (notebookContainer) {{\n",
       "    x.observe(notebookContainer, {childList: true});\n",
       "}}\n",
       "\n",
       "// Listen for the clearing of the current output cell\n",
       "var outputEl = gd.closest('.output');\n",
       "if (outputEl) {{\n",
       "    x.observe(outputEl, {childList: true});\n",
       "}}\n",
       "\n",
       "                        })                };                });            </script>        </div>"
      ]
     },
     "metadata": {},
     "output_type": "display_data"
    }
   ],
   "source": [
    "fig  = px.line(df_pred_test, labels = {'value':'PM2.5'})\n",
    "fig.show()"
   ]
  },
  {
   "cell_type": "code",
   "execution_count": null,
   "id": "77675135-f9c1-4340-9099-c08ed00650e8",
   "metadata": {},
   "outputs": [],
   "source": []
  }
 ],
 "metadata": {
  "kernelspec": {
   "display_name": "Python 3 (ipykernel)",
   "language": "python",
   "name": "python3"
  },
  "language_info": {
   "codemirror_mode": {
    "name": "ipython",
    "version": 3
   },
   "file_extension": ".py",
   "mimetype": "text/x-python",
   "name": "python",
   "nbconvert_exporter": "python",
   "pygments_lexer": "ipython3",
   "version": "3.11.7"
  }
 },
 "nbformat": 4,
 "nbformat_minor": 5
}
